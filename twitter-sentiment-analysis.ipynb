{
 "cells": [
  {
   "cell_type": "markdown",
   "id": "18e315cb",
   "metadata": {
    "papermill": {
     "duration": 0.002377,
     "end_time": "2025-03-07T21:53:17.511509",
     "exception": false,
     "start_time": "2025-03-07T21:53:17.509132",
     "status": "completed"
    },
    "tags": []
   },
   "source": [
    "# 3. Python\n",
    "## 3.1 Twitter Sentiment Analysis"
   ]
  },
  {
   "cell_type": "code",
   "execution_count": 1,
   "id": "e9b5f613",
   "metadata": {
    "execution": {
     "iopub.execute_input": "2025-03-07T21:53:17.516809Z",
     "iopub.status.busy": "2025-03-07T21:53:17.516463Z",
     "iopub.status.idle": "2025-03-07T21:53:17.522582Z",
     "shell.execute_reply": "2025-03-07T21:53:17.521509Z"
    },
    "papermill": {
     "duration": 0.01062,
     "end_time": "2025-03-07T21:53:17.524317",
     "exception": false,
     "start_time": "2025-03-07T21:53:17.513697",
     "status": "completed"
    },
    "tags": []
   },
   "outputs": [],
   "source": [
    "# Lista de tweets\n",
    "tweets = [\n",
    "\"Wow, what a great day today!! #sunshine\",\n",
    "\"I feel sad about the things going on around us. #covid19\",\n",
    "\"I'm really excited to learn Python with @JovianML #zerotopandas\",\n",
    "\"This is a really nice song. #linkinpark\",\n",
    "\"The python programming language is useful for data science\",\n",
    "\"Why do bad things happen to me?\",\n",
    "\"Apple announces the release of the new iPhone 12. Fans are excited.\",\n",
    "\"Spent my day with family!! #happy\",\n",
    "\"Check out my blog post on common string operations in Python. #zerotopandas\",\n",
    "\"Freecodecamp has great coding tutorials. #skillup\"]"
   ]
  },
  {
   "cell_type": "code",
   "execution_count": 2,
   "id": "4237de0b",
   "metadata": {
    "execution": {
     "iopub.execute_input": "2025-03-07T21:53:17.529231Z",
     "iopub.status.busy": "2025-03-07T21:53:17.528917Z",
     "iopub.status.idle": "2025-03-07T21:53:17.534409Z",
     "shell.execute_reply": "2025-03-07T21:53:17.533273Z"
    },
    "papermill": {
     "duration": 0.009682,
     "end_time": "2025-03-07T21:53:17.536030",
     "exception": false,
     "start_time": "2025-03-07T21:53:17.526348",
     "status": "completed"
    },
    "tags": []
   },
   "outputs": [
    {
     "name": "stdout",
     "output_type": "stream",
     "text": [
      "Há 10 tweets.\n"
     ]
    }
   ],
   "source": [
    "# Quantidade de tweets nesse banco de dados\n",
    "qtd = len(tweets)\n",
    "print(f\"Há {qtd} tweets.\")"
   ]
  },
  {
   "cell_type": "code",
   "execution_count": 3,
   "id": "86d38e06",
   "metadata": {
    "execution": {
     "iopub.execute_input": "2025-03-07T21:53:17.540960Z",
     "iopub.status.busy": "2025-03-07T21:53:17.540627Z",
     "iopub.status.idle": "2025-03-07T21:53:17.547900Z",
     "shell.execute_reply": "2025-03-07T21:53:17.546964Z"
    },
    "papermill": {
     "duration": 0.01138,
     "end_time": "2025-03-07T21:53:17.549475",
     "exception": false,
     "start_time": "2025-03-07T21:53:17.538095",
     "status": "completed"
    },
    "tags": []
   },
   "outputs": [
    {
     "name": "stdout",
     "output_type": "stream",
     "text": [
      "Tweets felizes: 6\n",
      "Tweets tristes: 2\n",
      "Tweets neutros: 2\n"
     ]
    }
   ],
   "source": [
    "# Quantidade de tweets felizes e tristes\n",
    "happy_words = ['great', 'excited', 'happy', 'nice', 'wonderful', 'amazing', 'good', 'best']\n",
    "sad_words = ['sad', 'bad', 'tragic', 'unhappy', 'worst']\n",
    "\n",
    "happy = 0\n",
    "sad = 0\n",
    "neutral = 0\n",
    "\n",
    "for tweet in tweets:\n",
    "    if any(word in tweet for word in happy_words):\n",
    "        happy = happy + 1\n",
    "    elif any(word in tweet for word in sad_words):\n",
    "        sad = sad + 1 \n",
    "    else:\n",
    "        neutral = neutral + 1\n",
    "print(f\"Tweets felizes: {happy}\")\n",
    "print(f\"Tweets tristes: {sad}\")\n",
    "print(f\"Tweets neutros: {neutral}\")"
   ]
  }
 ],
 "metadata": {
  "kaggle": {
   "accelerator": "none",
   "dataSources": [],
   "dockerImageVersionId": 30886,
   "isGpuEnabled": false,
   "isInternetEnabled": true,
   "language": "python",
   "sourceType": "notebook"
  },
  "kernelspec": {
   "display_name": "Python 3",
   "language": "python",
   "name": "python3"
  },
  "language_info": {
   "codemirror_mode": {
    "name": "ipython",
    "version": 3
   },
   "file_extension": ".py",
   "mimetype": "text/x-python",
   "name": "python",
   "nbconvert_exporter": "python",
   "pygments_lexer": "ipython3",
   "version": "3.10.12"
  },
  "papermill": {
   "default_parameters": {},
   "duration": 3.498415,
   "end_time": "2025-03-07T21:53:18.071481",
   "environment_variables": {},
   "exception": null,
   "input_path": "__notebook__.ipynb",
   "output_path": "__notebook__.ipynb",
   "parameters": {},
   "start_time": "2025-03-07T21:53:14.573066",
   "version": "2.6.0"
  }
 },
 "nbformat": 4,
 "nbformat_minor": 5
}
