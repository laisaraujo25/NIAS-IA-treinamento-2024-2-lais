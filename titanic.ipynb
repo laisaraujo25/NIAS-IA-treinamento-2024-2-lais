{
 "cells": [
  {
   "cell_type": "markdown",
   "id": "086f03e9",
   "metadata": {
    "papermill": {
     "duration": 0.009104,
     "end_time": "2025-03-07T21:56:20.372006",
     "exception": false,
     "start_time": "2025-03-07T21:56:20.362902",
     "status": "completed"
    },
    "tags": []
   },
   "source": [
    "# 6. Introdução ao Machine Learning\n",
    "## 6.1 Importação e visualização do banco de dados"
   ]
  },
  {
   "cell_type": "code",
   "execution_count": 1,
   "id": "0fe05e31",
   "metadata": {
    "execution": {
     "iopub.execute_input": "2025-03-07T21:56:20.389454Z",
     "iopub.status.busy": "2025-03-07T21:56:20.389061Z",
     "iopub.status.idle": "2025-03-07T21:56:22.951788Z",
     "shell.execute_reply": "2025-03-07T21:56:22.950757Z"
    },
    "papermill": {
     "duration": 2.573374,
     "end_time": "2025-03-07T21:56:22.953626",
     "exception": false,
     "start_time": "2025-03-07T21:56:20.380252",
     "status": "completed"
    },
    "tags": []
   },
   "outputs": [],
   "source": [
    "# Importando as bibliotecas\n",
    "import numpy as np\n",
    "import pandas as pd\n",
    "import matplotlib.pyplot\n",
    "import seaborn as sns\n",
    "%matplotlib inline\n",
    "np.random.seed(0)"
   ]
  },
  {
   "cell_type": "code",
   "execution_count": 2,
   "id": "18709956",
   "metadata": {
    "execution": {
     "iopub.execute_input": "2025-03-07T21:56:22.971581Z",
     "iopub.status.busy": "2025-03-07T21:56:22.971051Z",
     "iopub.status.idle": "2025-03-07T21:56:23.043258Z",
     "shell.execute_reply": "2025-03-07T21:56:23.042205Z"
    },
    "papermill": {
     "duration": 0.083378,
     "end_time": "2025-03-07T21:56:23.045349",
     "exception": false,
     "start_time": "2025-03-07T21:56:22.961971",
     "status": "completed"
    },
    "tags": []
   },
   "outputs": [
    {
     "data": {
      "text/html": [
       "<div>\n",
       "<style scoped>\n",
       "    .dataframe tbody tr th:only-of-type {\n",
       "        vertical-align: middle;\n",
       "    }\n",
       "\n",
       "    .dataframe tbody tr th {\n",
       "        vertical-align: top;\n",
       "    }\n",
       "\n",
       "    .dataframe thead th {\n",
       "        text-align: right;\n",
       "    }\n",
       "</style>\n",
       "<table border=\"1\" class=\"dataframe\">\n",
       "  <thead>\n",
       "    <tr style=\"text-align: right;\">\n",
       "      <th></th>\n",
       "      <th>PassengerId</th>\n",
       "      <th>Survived</th>\n",
       "      <th>Pclass</th>\n",
       "      <th>Age</th>\n",
       "      <th>SibSp</th>\n",
       "      <th>Parch</th>\n",
       "      <th>Fare</th>\n",
       "    </tr>\n",
       "  </thead>\n",
       "  <tbody>\n",
       "    <tr>\n",
       "      <th>count</th>\n",
       "      <td>891.000000</td>\n",
       "      <td>891.000000</td>\n",
       "      <td>891.000000</td>\n",
       "      <td>714.000000</td>\n",
       "      <td>891.000000</td>\n",
       "      <td>891.000000</td>\n",
       "      <td>891.000000</td>\n",
       "    </tr>\n",
       "    <tr>\n",
       "      <th>mean</th>\n",
       "      <td>446.000000</td>\n",
       "      <td>0.383838</td>\n",
       "      <td>2.308642</td>\n",
       "      <td>29.699118</td>\n",
       "      <td>0.523008</td>\n",
       "      <td>0.381594</td>\n",
       "      <td>32.204208</td>\n",
       "    </tr>\n",
       "    <tr>\n",
       "      <th>std</th>\n",
       "      <td>257.353842</td>\n",
       "      <td>0.486592</td>\n",
       "      <td>0.836071</td>\n",
       "      <td>14.526497</td>\n",
       "      <td>1.102743</td>\n",
       "      <td>0.806057</td>\n",
       "      <td>49.693429</td>\n",
       "    </tr>\n",
       "    <tr>\n",
       "      <th>min</th>\n",
       "      <td>1.000000</td>\n",
       "      <td>0.000000</td>\n",
       "      <td>1.000000</td>\n",
       "      <td>0.420000</td>\n",
       "      <td>0.000000</td>\n",
       "      <td>0.000000</td>\n",
       "      <td>0.000000</td>\n",
       "    </tr>\n",
       "    <tr>\n",
       "      <th>25%</th>\n",
       "      <td>223.500000</td>\n",
       "      <td>0.000000</td>\n",
       "      <td>2.000000</td>\n",
       "      <td>20.125000</td>\n",
       "      <td>0.000000</td>\n",
       "      <td>0.000000</td>\n",
       "      <td>7.910400</td>\n",
       "    </tr>\n",
       "    <tr>\n",
       "      <th>50%</th>\n",
       "      <td>446.000000</td>\n",
       "      <td>0.000000</td>\n",
       "      <td>3.000000</td>\n",
       "      <td>28.000000</td>\n",
       "      <td>0.000000</td>\n",
       "      <td>0.000000</td>\n",
       "      <td>14.454200</td>\n",
       "    </tr>\n",
       "    <tr>\n",
       "      <th>75%</th>\n",
       "      <td>668.500000</td>\n",
       "      <td>1.000000</td>\n",
       "      <td>3.000000</td>\n",
       "      <td>38.000000</td>\n",
       "      <td>1.000000</td>\n",
       "      <td>0.000000</td>\n",
       "      <td>31.000000</td>\n",
       "    </tr>\n",
       "    <tr>\n",
       "      <th>max</th>\n",
       "      <td>891.000000</td>\n",
       "      <td>1.000000</td>\n",
       "      <td>3.000000</td>\n",
       "      <td>80.000000</td>\n",
       "      <td>8.000000</td>\n",
       "      <td>6.000000</td>\n",
       "      <td>512.329200</td>\n",
       "    </tr>\n",
       "  </tbody>\n",
       "</table>\n",
       "</div>"
      ],
      "text/plain": [
       "       PassengerId    Survived      Pclass         Age       SibSp  \\\n",
       "count   891.000000  891.000000  891.000000  714.000000  891.000000   \n",
       "mean    446.000000    0.383838    2.308642   29.699118    0.523008   \n",
       "std     257.353842    0.486592    0.836071   14.526497    1.102743   \n",
       "min       1.000000    0.000000    1.000000    0.420000    0.000000   \n",
       "25%     223.500000    0.000000    2.000000   20.125000    0.000000   \n",
       "50%     446.000000    0.000000    3.000000   28.000000    0.000000   \n",
       "75%     668.500000    1.000000    3.000000   38.000000    1.000000   \n",
       "max     891.000000    1.000000    3.000000   80.000000    8.000000   \n",
       "\n",
       "            Parch        Fare  \n",
       "count  891.000000  891.000000  \n",
       "mean     0.381594   32.204208  \n",
       "std      0.806057   49.693429  \n",
       "min      0.000000    0.000000  \n",
       "25%      0.000000    7.910400  \n",
       "50%      0.000000   14.454200  \n",
       "75%      0.000000   31.000000  \n",
       "max      6.000000  512.329200  "
      ]
     },
     "execution_count": 2,
     "metadata": {},
     "output_type": "execute_result"
    }
   ],
   "source": [
    "# Importando os arquivos\n",
    "test_path = '/kaggle/input/titanic/test.csv'\n",
    "train_path = '/kaggle/input/titanic/train.csv'\n",
    "\n",
    "test_data = pd.read_csv(test_path)\n",
    "train_data = pd.read_csv(train_path)\n",
    "\n",
    "# Gerando momentos estatítiscos sobre o dataframe de treino\n",
    "train_data.describe()"
   ]
  },
  {
   "cell_type": "code",
   "execution_count": 3,
   "id": "dedcd40d",
   "metadata": {
    "execution": {
     "iopub.execute_input": "2025-03-07T21:56:23.063132Z",
     "iopub.status.busy": "2025-03-07T21:56:23.062756Z",
     "iopub.status.idle": "2025-03-07T21:56:23.089411Z",
     "shell.execute_reply": "2025-03-07T21:56:23.088248Z"
    },
    "papermill": {
     "duration": 0.037234,
     "end_time": "2025-03-07T21:56:23.090981",
     "exception": false,
     "start_time": "2025-03-07T21:56:23.053747",
     "status": "completed"
    },
    "tags": []
   },
   "outputs": [
    {
     "name": "stdout",
     "output_type": "stream",
     "text": [
      "<class 'pandas.core.frame.DataFrame'>\n",
      "RangeIndex: 891 entries, 0 to 890\n",
      "Data columns (total 12 columns):\n",
      " #   Column       Non-Null Count  Dtype  \n",
      "---  ------       --------------  -----  \n",
      " 0   PassengerId  891 non-null    int64  \n",
      " 1   Survived     891 non-null    int64  \n",
      " 2   Pclass       891 non-null    int64  \n",
      " 3   Name         891 non-null    object \n",
      " 4   Sex          891 non-null    object \n",
      " 5   Age          714 non-null    float64\n",
      " 6   SibSp        891 non-null    int64  \n",
      " 7   Parch        891 non-null    int64  \n",
      " 8   Ticket       891 non-null    object \n",
      " 9   Fare         891 non-null    float64\n",
      " 10  Cabin        204 non-null    object \n",
      " 11  Embarked     889 non-null    object \n",
      "dtypes: float64(2), int64(5), object(5)\n",
      "memory usage: 83.7+ KB\n"
     ]
    }
   ],
   "source": [
    "# Identificando as features categóricas e as numéricas\n",
    "train_data.info()"
   ]
  },
  {
   "cell_type": "code",
   "execution_count": 4,
   "id": "bf435230",
   "metadata": {
    "execution": {
     "iopub.execute_input": "2025-03-07T21:56:23.108908Z",
     "iopub.status.busy": "2025-03-07T21:56:23.108540Z",
     "iopub.status.idle": "2025-03-07T21:56:23.113064Z",
     "shell.execute_reply": "2025-03-07T21:56:23.111907Z"
    },
    "papermill": {
     "duration": 0.015311,
     "end_time": "2025-03-07T21:56:23.114667",
     "exception": false,
     "start_time": "2025-03-07T21:56:23.099356",
     "status": "completed"
    },
    "tags": []
   },
   "outputs": [],
   "source": [
    "# Separando as features numéricas\n",
    "cat = ['Name', 'Sex', 'Ticket', 'Cabin', 'Embarked']\n",
    "num_dis = ['PassengerId','Survived','Pclass','SibSp','Parch']\n",
    "num_con = ['Age', 'Fare']"
   ]
  },
  {
   "cell_type": "code",
   "execution_count": 5,
   "id": "a804c00a",
   "metadata": {
    "execution": {
     "iopub.execute_input": "2025-03-07T21:56:23.132622Z",
     "iopub.status.busy": "2025-03-07T21:56:23.132196Z",
     "iopub.status.idle": "2025-03-07T21:56:23.140058Z",
     "shell.execute_reply": "2025-03-07T21:56:23.139179Z"
    },
    "papermill": {
     "duration": 0.018748,
     "end_time": "2025-03-07T21:56:23.141780",
     "exception": false,
     "start_time": "2025-03-07T21:56:23.123032",
     "status": "completed"
    },
    "tags": []
   },
   "outputs": [
    {
     "data": {
      "text/plain": [
       "PassengerId      0\n",
       "Survived         0\n",
       "Pclass           0\n",
       "Name             0\n",
       "Sex              0\n",
       "Age            177\n",
       "SibSp            0\n",
       "Parch            0\n",
       "Ticket           0\n",
       "Fare             0\n",
       "Cabin          687\n",
       "Embarked         2\n",
       "dtype: int64"
      ]
     },
     "execution_count": 5,
     "metadata": {},
     "output_type": "execute_result"
    }
   ],
   "source": [
    "# Identificando quais features contém dados faltantes\n",
    "train_data.isnull().sum()"
   ]
  },
  {
   "cell_type": "code",
   "execution_count": 6,
   "id": "33c58d05",
   "metadata": {
    "execution": {
     "iopub.execute_input": "2025-03-07T21:56:23.160299Z",
     "iopub.status.busy": "2025-03-07T21:56:23.159926Z",
     "iopub.status.idle": "2025-03-07T21:56:23.167041Z",
     "shell.execute_reply": "2025-03-07T21:56:23.166014Z"
    },
    "papermill": {
     "duration": 0.018548,
     "end_time": "2025-03-07T21:56:23.168787",
     "exception": false,
     "start_time": "2025-03-07T21:56:23.150239",
     "status": "completed"
    },
    "tags": []
   },
   "outputs": [
    {
     "data": {
      "text/plain": [
       "866"
      ]
     },
     "execution_count": 6,
     "metadata": {},
     "output_type": "execute_result"
    }
   ],
   "source": [
    "# Quantos NaN há\n",
    "train_data.isnull().sum().sum()"
   ]
  },
  {
   "cell_type": "code",
   "execution_count": 7,
   "id": "97b77c1c",
   "metadata": {
    "execution": {
     "iopub.execute_input": "2025-03-07T21:56:23.187717Z",
     "iopub.status.busy": "2025-03-07T21:56:23.187319Z",
     "iopub.status.idle": "2025-03-07T21:56:23.197727Z",
     "shell.execute_reply": "2025-03-07T21:56:23.196712Z"
    },
    "papermill": {
     "duration": 0.021922,
     "end_time": "2025-03-07T21:56:23.199375",
     "exception": false,
     "start_time": "2025-03-07T21:56:23.177453",
     "status": "completed"
    },
    "tags": []
   },
   "outputs": [
    {
     "name": "stdout",
     "output_type": "stream",
     "text": [
      "<class 'pandas.core.frame.DataFrame'>\n",
      "RangeIndex: 418 entries, 0 to 417\n",
      "Data columns (total 11 columns):\n",
      " #   Column       Non-Null Count  Dtype  \n",
      "---  ------       --------------  -----  \n",
      " 0   PassengerId  418 non-null    int64  \n",
      " 1   Pclass       418 non-null    int64  \n",
      " 2   Name         418 non-null    object \n",
      " 3   Sex          418 non-null    object \n",
      " 4   Age          332 non-null    float64\n",
      " 5   SibSp        418 non-null    int64  \n",
      " 6   Parch        418 non-null    int64  \n",
      " 7   Ticket       418 non-null    object \n",
      " 8   Fare         417 non-null    float64\n",
      " 9   Cabin        91 non-null     object \n",
      " 10  Embarked     418 non-null    object \n",
      "dtypes: float64(2), int64(4), object(5)\n",
      "memory usage: 36.0+ KB\n"
     ]
    }
   ],
   "source": [
    "# Identificando as features númericas do banco de dados de teste\n",
    "test_data.info()"
   ]
  },
  {
   "cell_type": "code",
   "execution_count": 8,
   "id": "c0f615f1",
   "metadata": {
    "execution": {
     "iopub.execute_input": "2025-03-07T21:56:23.217661Z",
     "iopub.status.busy": "2025-03-07T21:56:23.217269Z",
     "iopub.status.idle": "2025-03-07T21:56:23.227775Z",
     "shell.execute_reply": "2025-03-07T21:56:23.226523Z"
    },
    "papermill": {
     "duration": 0.021544,
     "end_time": "2025-03-07T21:56:23.229439",
     "exception": false,
     "start_time": "2025-03-07T21:56:23.207895",
     "status": "completed"
    },
    "tags": []
   },
   "outputs": [
    {
     "name": "stdout",
     "output_type": "stream",
     "text": [
      "<class 'pandas.core.frame.DataFrame'>\n",
      "RangeIndex: 891 entries, 0 to 890\n",
      "Data columns (total 12 columns):\n",
      " #   Column       Non-Null Count  Dtype  \n",
      "---  ------       --------------  -----  \n",
      " 0   PassengerId  891 non-null    int64  \n",
      " 1   Survived     891 non-null    int64  \n",
      " 2   Pclass       891 non-null    int64  \n",
      " 3   Name         891 non-null    object \n",
      " 4   Sex          891 non-null    object \n",
      " 5   Age          714 non-null    float64\n",
      " 6   SibSp        891 non-null    int64  \n",
      " 7   Parch        891 non-null    int64  \n",
      " 8   Ticket       891 non-null    object \n",
      " 9   Fare         891 non-null    float64\n",
      " 10  Cabin        204 non-null    object \n",
      " 11  Embarked     889 non-null    object \n",
      "dtypes: float64(2), int64(5), object(5)\n",
      "memory usage: 83.7+ KB\n"
     ]
    }
   ],
   "source": [
    "# Identificando as features númericas do banco de dados de treino\n",
    "train_data.info()"
   ]
  },
  {
   "cell_type": "code",
   "execution_count": 9,
   "id": "be0d3404",
   "metadata": {
    "execution": {
     "iopub.execute_input": "2025-03-07T21:56:23.247840Z",
     "iopub.status.busy": "2025-03-07T21:56:23.247429Z",
     "iopub.status.idle": "2025-03-07T21:56:23.267960Z",
     "shell.execute_reply": "2025-03-07T21:56:23.266998Z"
    },
    "papermill": {
     "duration": 0.031725,
     "end_time": "2025-03-07T21:56:23.269806",
     "exception": false,
     "start_time": "2025-03-07T21:56:23.238081",
     "status": "completed"
    },
    "tags": []
   },
   "outputs": [
    {
     "name": "stderr",
     "output_type": "stream",
     "text": [
      "/usr/local/lib/python3.10/dist-packages/pandas/io/formats/format.py:1458: RuntimeWarning: invalid value encountered in greater\n",
      "  has_large_values = (abs_vals > 1e6).any()\n",
      "/usr/local/lib/python3.10/dist-packages/pandas/io/formats/format.py:1459: RuntimeWarning: invalid value encountered in less\n",
      "  has_small_values = ((abs_vals < 10 ** (-self.digits)) & (abs_vals > 0)).any()\n",
      "/usr/local/lib/python3.10/dist-packages/pandas/io/formats/format.py:1459: RuntimeWarning: invalid value encountered in greater\n",
      "  has_small_values = ((abs_vals < 10 ** (-self.digits)) & (abs_vals > 0)).any()\n"
     ]
    },
    {
     "data": {
      "text/html": [
       "<div>\n",
       "<style scoped>\n",
       "    .dataframe tbody tr th:only-of-type {\n",
       "        vertical-align: middle;\n",
       "    }\n",
       "\n",
       "    .dataframe tbody tr th {\n",
       "        vertical-align: top;\n",
       "    }\n",
       "\n",
       "    .dataframe thead th {\n",
       "        text-align: right;\n",
       "    }\n",
       "</style>\n",
       "<table border=\"1\" class=\"dataframe\">\n",
       "  <thead>\n",
       "    <tr style=\"text-align: right;\">\n",
       "      <th></th>\n",
       "      <th>PassengerId</th>\n",
       "      <th>Pclass</th>\n",
       "      <th>Age</th>\n",
       "      <th>SibSp</th>\n",
       "      <th>Parch</th>\n",
       "      <th>Fare</th>\n",
       "    </tr>\n",
       "  </thead>\n",
       "  <tbody>\n",
       "    <tr>\n",
       "      <th>0</th>\n",
       "      <td>892</td>\n",
       "      <td>3</td>\n",
       "      <td>34.5</td>\n",
       "      <td>0</td>\n",
       "      <td>0</td>\n",
       "      <td>7.8292</td>\n",
       "    </tr>\n",
       "    <tr>\n",
       "      <th>1</th>\n",
       "      <td>893</td>\n",
       "      <td>3</td>\n",
       "      <td>47.0</td>\n",
       "      <td>1</td>\n",
       "      <td>0</td>\n",
       "      <td>7.0000</td>\n",
       "    </tr>\n",
       "    <tr>\n",
       "      <th>2</th>\n",
       "      <td>894</td>\n",
       "      <td>2</td>\n",
       "      <td>62.0</td>\n",
       "      <td>0</td>\n",
       "      <td>0</td>\n",
       "      <td>9.6875</td>\n",
       "    </tr>\n",
       "    <tr>\n",
       "      <th>3</th>\n",
       "      <td>895</td>\n",
       "      <td>3</td>\n",
       "      <td>27.0</td>\n",
       "      <td>0</td>\n",
       "      <td>0</td>\n",
       "      <td>8.6625</td>\n",
       "    </tr>\n",
       "    <tr>\n",
       "      <th>4</th>\n",
       "      <td>896</td>\n",
       "      <td>3</td>\n",
       "      <td>22.0</td>\n",
       "      <td>1</td>\n",
       "      <td>1</td>\n",
       "      <td>12.2875</td>\n",
       "    </tr>\n",
       "    <tr>\n",
       "      <th>...</th>\n",
       "      <td>...</td>\n",
       "      <td>...</td>\n",
       "      <td>...</td>\n",
       "      <td>...</td>\n",
       "      <td>...</td>\n",
       "      <td>...</td>\n",
       "    </tr>\n",
       "    <tr>\n",
       "      <th>413</th>\n",
       "      <td>1305</td>\n",
       "      <td>3</td>\n",
       "      <td>NaN</td>\n",
       "      <td>0</td>\n",
       "      <td>0</td>\n",
       "      <td>8.0500</td>\n",
       "    </tr>\n",
       "    <tr>\n",
       "      <th>414</th>\n",
       "      <td>1306</td>\n",
       "      <td>1</td>\n",
       "      <td>39.0</td>\n",
       "      <td>0</td>\n",
       "      <td>0</td>\n",
       "      <td>108.9000</td>\n",
       "    </tr>\n",
       "    <tr>\n",
       "      <th>415</th>\n",
       "      <td>1307</td>\n",
       "      <td>3</td>\n",
       "      <td>38.5</td>\n",
       "      <td>0</td>\n",
       "      <td>0</td>\n",
       "      <td>7.2500</td>\n",
       "    </tr>\n",
       "    <tr>\n",
       "      <th>416</th>\n",
       "      <td>1308</td>\n",
       "      <td>3</td>\n",
       "      <td>NaN</td>\n",
       "      <td>0</td>\n",
       "      <td>0</td>\n",
       "      <td>8.0500</td>\n",
       "    </tr>\n",
       "    <tr>\n",
       "      <th>417</th>\n",
       "      <td>1309</td>\n",
       "      <td>3</td>\n",
       "      <td>NaN</td>\n",
       "      <td>1</td>\n",
       "      <td>1</td>\n",
       "      <td>22.3583</td>\n",
       "    </tr>\n",
       "  </tbody>\n",
       "</table>\n",
       "<p>418 rows × 6 columns</p>\n",
       "</div>"
      ],
      "text/plain": [
       "     PassengerId  Pclass   Age  SibSp  Parch      Fare\n",
       "0            892       3  34.5      0      0    7.8292\n",
       "1            893       3  47.0      1      0    7.0000\n",
       "2            894       2  62.0      0      0    9.6875\n",
       "3            895       3  27.0      0      0    8.6625\n",
       "4            896       3  22.0      1      1   12.2875\n",
       "..           ...     ...   ...    ...    ...       ...\n",
       "413         1305       3   NaN      0      0    8.0500\n",
       "414         1306       1  39.0      0      0  108.9000\n",
       "415         1307       3  38.5      0      0    7.2500\n",
       "416         1308       3   NaN      0      0    8.0500\n",
       "417         1309       3   NaN      1      1   22.3583\n",
       "\n",
       "[418 rows x 6 columns]"
      ]
     },
     "execution_count": 9,
     "metadata": {},
     "output_type": "execute_result"
    }
   ],
   "source": [
    "# Criando novo dataframe de treino apenas com as features numéricas\n",
    "notCat1 = ['PassengerId','Pclass','Age','SibSp','Parch','Fare']\n",
    "notCat2 = ['PassengerId','Survived','Pclass','Age','SibSp','Parch', 'Fare']\n",
    "\n",
    "df1 = test_data[notCat1]\n",
    "df2 = train_data[notCat2]\n",
    "df1"
   ]
  },
  {
   "cell_type": "code",
   "execution_count": 10,
   "id": "252116ae",
   "metadata": {
    "execution": {
     "iopub.execute_input": "2025-03-07T21:56:23.289144Z",
     "iopub.status.busy": "2025-03-07T21:56:23.288554Z",
     "iopub.status.idle": "2025-03-07T21:56:23.302397Z",
     "shell.execute_reply": "2025-03-07T21:56:23.301432Z"
    },
    "papermill": {
     "duration": 0.025367,
     "end_time": "2025-03-07T21:56:23.304108",
     "exception": false,
     "start_time": "2025-03-07T21:56:23.278741",
     "status": "completed"
    },
    "tags": []
   },
   "outputs": [
    {
     "data": {
      "text/html": [
       "<div>\n",
       "<style scoped>\n",
       "    .dataframe tbody tr th:only-of-type {\n",
       "        vertical-align: middle;\n",
       "    }\n",
       "\n",
       "    .dataframe tbody tr th {\n",
       "        vertical-align: top;\n",
       "    }\n",
       "\n",
       "    .dataframe thead th {\n",
       "        text-align: right;\n",
       "    }\n",
       "</style>\n",
       "<table border=\"1\" class=\"dataframe\">\n",
       "  <thead>\n",
       "    <tr style=\"text-align: right;\">\n",
       "      <th></th>\n",
       "      <th>PassengerId</th>\n",
       "      <th>Survived</th>\n",
       "      <th>Pclass</th>\n",
       "      <th>Age</th>\n",
       "      <th>SibSp</th>\n",
       "      <th>Parch</th>\n",
       "      <th>Fare</th>\n",
       "    </tr>\n",
       "  </thead>\n",
       "  <tbody>\n",
       "    <tr>\n",
       "      <th>0</th>\n",
       "      <td>1</td>\n",
       "      <td>0</td>\n",
       "      <td>3</td>\n",
       "      <td>22.0</td>\n",
       "      <td>1</td>\n",
       "      <td>0</td>\n",
       "      <td>7.2500</td>\n",
       "    </tr>\n",
       "    <tr>\n",
       "      <th>1</th>\n",
       "      <td>2</td>\n",
       "      <td>1</td>\n",
       "      <td>1</td>\n",
       "      <td>38.0</td>\n",
       "      <td>1</td>\n",
       "      <td>0</td>\n",
       "      <td>71.2833</td>\n",
       "    </tr>\n",
       "    <tr>\n",
       "      <th>2</th>\n",
       "      <td>3</td>\n",
       "      <td>1</td>\n",
       "      <td>3</td>\n",
       "      <td>26.0</td>\n",
       "      <td>0</td>\n",
       "      <td>0</td>\n",
       "      <td>7.9250</td>\n",
       "    </tr>\n",
       "    <tr>\n",
       "      <th>3</th>\n",
       "      <td>4</td>\n",
       "      <td>1</td>\n",
       "      <td>1</td>\n",
       "      <td>35.0</td>\n",
       "      <td>1</td>\n",
       "      <td>0</td>\n",
       "      <td>53.1000</td>\n",
       "    </tr>\n",
       "    <tr>\n",
       "      <th>4</th>\n",
       "      <td>5</td>\n",
       "      <td>0</td>\n",
       "      <td>3</td>\n",
       "      <td>35.0</td>\n",
       "      <td>0</td>\n",
       "      <td>0</td>\n",
       "      <td>8.0500</td>\n",
       "    </tr>\n",
       "    <tr>\n",
       "      <th>...</th>\n",
       "      <td>...</td>\n",
       "      <td>...</td>\n",
       "      <td>...</td>\n",
       "      <td>...</td>\n",
       "      <td>...</td>\n",
       "      <td>...</td>\n",
       "      <td>...</td>\n",
       "    </tr>\n",
       "    <tr>\n",
       "      <th>885</th>\n",
       "      <td>886</td>\n",
       "      <td>0</td>\n",
       "      <td>3</td>\n",
       "      <td>39.0</td>\n",
       "      <td>0</td>\n",
       "      <td>5</td>\n",
       "      <td>29.1250</td>\n",
       "    </tr>\n",
       "    <tr>\n",
       "      <th>886</th>\n",
       "      <td>887</td>\n",
       "      <td>0</td>\n",
       "      <td>2</td>\n",
       "      <td>27.0</td>\n",
       "      <td>0</td>\n",
       "      <td>0</td>\n",
       "      <td>13.0000</td>\n",
       "    </tr>\n",
       "    <tr>\n",
       "      <th>887</th>\n",
       "      <td>888</td>\n",
       "      <td>1</td>\n",
       "      <td>1</td>\n",
       "      <td>19.0</td>\n",
       "      <td>0</td>\n",
       "      <td>0</td>\n",
       "      <td>30.0000</td>\n",
       "    </tr>\n",
       "    <tr>\n",
       "      <th>889</th>\n",
       "      <td>890</td>\n",
       "      <td>1</td>\n",
       "      <td>1</td>\n",
       "      <td>26.0</td>\n",
       "      <td>0</td>\n",
       "      <td>0</td>\n",
       "      <td>30.0000</td>\n",
       "    </tr>\n",
       "    <tr>\n",
       "      <th>890</th>\n",
       "      <td>891</td>\n",
       "      <td>0</td>\n",
       "      <td>3</td>\n",
       "      <td>32.0</td>\n",
       "      <td>0</td>\n",
       "      <td>0</td>\n",
       "      <td>7.7500</td>\n",
       "    </tr>\n",
       "  </tbody>\n",
       "</table>\n",
       "<p>714 rows × 7 columns</p>\n",
       "</div>"
      ],
      "text/plain": [
       "     PassengerId  Survived  Pclass   Age  SibSp  Parch     Fare\n",
       "0              1         0       3  22.0      1      0   7.2500\n",
       "1              2         1       1  38.0      1      0  71.2833\n",
       "2              3         1       3  26.0      0      0   7.9250\n",
       "3              4         1       1  35.0      1      0  53.1000\n",
       "4              5         0       3  35.0      0      0   8.0500\n",
       "..           ...       ...     ...   ...    ...    ...      ...\n",
       "885          886         0       3  39.0      0      5  29.1250\n",
       "886          887         0       2  27.0      0      0  13.0000\n",
       "887          888         1       1  19.0      0      0  30.0000\n",
       "889          890         1       1  26.0      0      0  30.0000\n",
       "890          891         0       3  32.0      0      0   7.7500\n",
       "\n",
       "[714 rows x 7 columns]"
      ]
     },
     "execution_count": 10,
     "metadata": {},
     "output_type": "execute_result"
    }
   ],
   "source": [
    "# Retirando as linhas que contém NaN do dataframe de treino\n",
    "df2 = df2.dropna()\n",
    "df2"
   ]
  },
  {
   "cell_type": "code",
   "execution_count": 11,
   "id": "24442a83",
   "metadata": {
    "execution": {
     "iopub.execute_input": "2025-03-07T21:56:23.323947Z",
     "iopub.status.busy": "2025-03-07T21:56:23.323603Z",
     "iopub.status.idle": "2025-03-07T21:56:23.335882Z",
     "shell.execute_reply": "2025-03-07T21:56:23.334907Z"
    },
    "papermill": {
     "duration": 0.023705,
     "end_time": "2025-03-07T21:56:23.337286",
     "exception": false,
     "start_time": "2025-03-07T21:56:23.313581",
     "status": "completed"
    },
    "tags": []
   },
   "outputs": [
    {
     "data": {
      "text/html": [
       "<div>\n",
       "<style scoped>\n",
       "    .dataframe tbody tr th:only-of-type {\n",
       "        vertical-align: middle;\n",
       "    }\n",
       "\n",
       "    .dataframe tbody tr th {\n",
       "        vertical-align: top;\n",
       "    }\n",
       "\n",
       "    .dataframe thead th {\n",
       "        text-align: right;\n",
       "    }\n",
       "</style>\n",
       "<table border=\"1\" class=\"dataframe\">\n",
       "  <thead>\n",
       "    <tr style=\"text-align: right;\">\n",
       "      <th></th>\n",
       "      <th>PassengerId</th>\n",
       "      <th>Pclass</th>\n",
       "      <th>Age</th>\n",
       "      <th>SibSp</th>\n",
       "      <th>Parch</th>\n",
       "      <th>Fare</th>\n",
       "    </tr>\n",
       "  </thead>\n",
       "  <tbody>\n",
       "    <tr>\n",
       "      <th>0</th>\n",
       "      <td>892</td>\n",
       "      <td>3</td>\n",
       "      <td>34.5</td>\n",
       "      <td>0</td>\n",
       "      <td>0</td>\n",
       "      <td>7.8292</td>\n",
       "    </tr>\n",
       "    <tr>\n",
       "      <th>1</th>\n",
       "      <td>893</td>\n",
       "      <td>3</td>\n",
       "      <td>47.0</td>\n",
       "      <td>1</td>\n",
       "      <td>0</td>\n",
       "      <td>7.0000</td>\n",
       "    </tr>\n",
       "    <tr>\n",
       "      <th>2</th>\n",
       "      <td>894</td>\n",
       "      <td>2</td>\n",
       "      <td>62.0</td>\n",
       "      <td>0</td>\n",
       "      <td>0</td>\n",
       "      <td>9.6875</td>\n",
       "    </tr>\n",
       "    <tr>\n",
       "      <th>3</th>\n",
       "      <td>895</td>\n",
       "      <td>3</td>\n",
       "      <td>27.0</td>\n",
       "      <td>0</td>\n",
       "      <td>0</td>\n",
       "      <td>8.6625</td>\n",
       "    </tr>\n",
       "    <tr>\n",
       "      <th>4</th>\n",
       "      <td>896</td>\n",
       "      <td>3</td>\n",
       "      <td>22.0</td>\n",
       "      <td>1</td>\n",
       "      <td>1</td>\n",
       "      <td>12.2875</td>\n",
       "    </tr>\n",
       "    <tr>\n",
       "      <th>...</th>\n",
       "      <td>...</td>\n",
       "      <td>...</td>\n",
       "      <td>...</td>\n",
       "      <td>...</td>\n",
       "      <td>...</td>\n",
       "      <td>...</td>\n",
       "    </tr>\n",
       "    <tr>\n",
       "      <th>413</th>\n",
       "      <td>1305</td>\n",
       "      <td>3</td>\n",
       "      <td>0.0</td>\n",
       "      <td>0</td>\n",
       "      <td>0</td>\n",
       "      <td>8.0500</td>\n",
       "    </tr>\n",
       "    <tr>\n",
       "      <th>414</th>\n",
       "      <td>1306</td>\n",
       "      <td>1</td>\n",
       "      <td>39.0</td>\n",
       "      <td>0</td>\n",
       "      <td>0</td>\n",
       "      <td>108.9000</td>\n",
       "    </tr>\n",
       "    <tr>\n",
       "      <th>415</th>\n",
       "      <td>1307</td>\n",
       "      <td>3</td>\n",
       "      <td>38.5</td>\n",
       "      <td>0</td>\n",
       "      <td>0</td>\n",
       "      <td>7.2500</td>\n",
       "    </tr>\n",
       "    <tr>\n",
       "      <th>416</th>\n",
       "      <td>1308</td>\n",
       "      <td>3</td>\n",
       "      <td>0.0</td>\n",
       "      <td>0</td>\n",
       "      <td>0</td>\n",
       "      <td>8.0500</td>\n",
       "    </tr>\n",
       "    <tr>\n",
       "      <th>417</th>\n",
       "      <td>1309</td>\n",
       "      <td>3</td>\n",
       "      <td>0.0</td>\n",
       "      <td>1</td>\n",
       "      <td>1</td>\n",
       "      <td>22.3583</td>\n",
       "    </tr>\n",
       "  </tbody>\n",
       "</table>\n",
       "<p>418 rows × 6 columns</p>\n",
       "</div>"
      ],
      "text/plain": [
       "     PassengerId  Pclass   Age  SibSp  Parch      Fare\n",
       "0            892       3  34.5      0      0    7.8292\n",
       "1            893       3  47.0      1      0    7.0000\n",
       "2            894       2  62.0      0      0    9.6875\n",
       "3            895       3  27.0      0      0    8.6625\n",
       "4            896       3  22.0      1      1   12.2875\n",
       "..           ...     ...   ...    ...    ...       ...\n",
       "413         1305       3   0.0      0      0    8.0500\n",
       "414         1306       1  39.0      0      0  108.9000\n",
       "415         1307       3  38.5      0      0    7.2500\n",
       "416         1308       3   0.0      0      0    8.0500\n",
       "417         1309       3   0.0      1      1   22.3583\n",
       "\n",
       "[418 rows x 6 columns]"
      ]
     },
     "execution_count": 11,
     "metadata": {},
     "output_type": "execute_result"
    }
   ],
   "source": [
    "# Substituindo os valores faltantes pelo valor 0 no dataframe de teste\n",
    "df1 = df1.fillna(0)\n",
    "df1"
   ]
  },
  {
   "cell_type": "markdown",
   "id": "ac65f47f",
   "metadata": {
    "papermill": {
     "duration": 0.009073,
     "end_time": "2025-03-07T21:56:23.355927",
     "exception": false,
     "start_time": "2025-03-07T21:56:23.346854",
     "status": "completed"
    },
    "tags": []
   },
   "source": [
    "## 6.2 Exploração do banco de dados"
   ]
  },
  {
   "cell_type": "code",
   "execution_count": 12,
   "id": "f78694b7",
   "metadata": {
    "execution": {
     "iopub.execute_input": "2025-03-07T21:56:23.375892Z",
     "iopub.status.busy": "2025-03-07T21:56:23.375557Z",
     "iopub.status.idle": "2025-03-07T21:56:23.387669Z",
     "shell.execute_reply": "2025-03-07T21:56:23.386654Z"
    },
    "papermill": {
     "duration": 0.023988,
     "end_time": "2025-03-07T21:56:23.389276",
     "exception": false,
     "start_time": "2025-03-07T21:56:23.365288",
     "status": "completed"
    },
    "tags": []
   },
   "outputs": [
    {
     "data": {
      "text/html": [
       "<div>\n",
       "<style scoped>\n",
       "    .dataframe tbody tr th:only-of-type {\n",
       "        vertical-align: middle;\n",
       "    }\n",
       "\n",
       "    .dataframe tbody tr th {\n",
       "        vertical-align: top;\n",
       "    }\n",
       "\n",
       "    .dataframe thead th {\n",
       "        text-align: right;\n",
       "    }\n",
       "</style>\n",
       "<table border=\"1\" class=\"dataframe\">\n",
       "  <thead>\n",
       "    <tr style=\"text-align: right;\">\n",
       "      <th></th>\n",
       "      <th>PassengerId</th>\n",
       "      <th>Survived</th>\n",
       "      <th>Pclass</th>\n",
       "      <th>Age</th>\n",
       "      <th>SibSp</th>\n",
       "      <th>Parch</th>\n",
       "      <th>Fare</th>\n",
       "    </tr>\n",
       "  </thead>\n",
       "  <tbody>\n",
       "    <tr>\n",
       "      <th>0</th>\n",
       "      <td>1</td>\n",
       "      <td>0</td>\n",
       "      <td>3</td>\n",
       "      <td>22.0</td>\n",
       "      <td>1</td>\n",
       "      <td>0</td>\n",
       "      <td>7.2500</td>\n",
       "    </tr>\n",
       "    <tr>\n",
       "      <th>1</th>\n",
       "      <td>2</td>\n",
       "      <td>1</td>\n",
       "      <td>1</td>\n",
       "      <td>38.0</td>\n",
       "      <td>1</td>\n",
       "      <td>0</td>\n",
       "      <td>71.2833</td>\n",
       "    </tr>\n",
       "    <tr>\n",
       "      <th>2</th>\n",
       "      <td>3</td>\n",
       "      <td>1</td>\n",
       "      <td>3</td>\n",
       "      <td>26.0</td>\n",
       "      <td>0</td>\n",
       "      <td>0</td>\n",
       "      <td>7.9250</td>\n",
       "    </tr>\n",
       "    <tr>\n",
       "      <th>3</th>\n",
       "      <td>4</td>\n",
       "      <td>1</td>\n",
       "      <td>1</td>\n",
       "      <td>35.0</td>\n",
       "      <td>1</td>\n",
       "      <td>0</td>\n",
       "      <td>53.1000</td>\n",
       "    </tr>\n",
       "    <tr>\n",
       "      <th>4</th>\n",
       "      <td>5</td>\n",
       "      <td>0</td>\n",
       "      <td>3</td>\n",
       "      <td>35.0</td>\n",
       "      <td>0</td>\n",
       "      <td>0</td>\n",
       "      <td>8.0500</td>\n",
       "    </tr>\n",
       "    <tr>\n",
       "      <th>...</th>\n",
       "      <td>...</td>\n",
       "      <td>...</td>\n",
       "      <td>...</td>\n",
       "      <td>...</td>\n",
       "      <td>...</td>\n",
       "      <td>...</td>\n",
       "      <td>...</td>\n",
       "    </tr>\n",
       "    <tr>\n",
       "      <th>885</th>\n",
       "      <td>886</td>\n",
       "      <td>0</td>\n",
       "      <td>3</td>\n",
       "      <td>39.0</td>\n",
       "      <td>0</td>\n",
       "      <td>5</td>\n",
       "      <td>29.1250</td>\n",
       "    </tr>\n",
       "    <tr>\n",
       "      <th>886</th>\n",
       "      <td>887</td>\n",
       "      <td>0</td>\n",
       "      <td>2</td>\n",
       "      <td>27.0</td>\n",
       "      <td>0</td>\n",
       "      <td>0</td>\n",
       "      <td>13.0000</td>\n",
       "    </tr>\n",
       "    <tr>\n",
       "      <th>887</th>\n",
       "      <td>888</td>\n",
       "      <td>1</td>\n",
       "      <td>1</td>\n",
       "      <td>19.0</td>\n",
       "      <td>0</td>\n",
       "      <td>0</td>\n",
       "      <td>30.0000</td>\n",
       "    </tr>\n",
       "    <tr>\n",
       "      <th>889</th>\n",
       "      <td>890</td>\n",
       "      <td>1</td>\n",
       "      <td>1</td>\n",
       "      <td>26.0</td>\n",
       "      <td>0</td>\n",
       "      <td>0</td>\n",
       "      <td>30.0000</td>\n",
       "    </tr>\n",
       "    <tr>\n",
       "      <th>890</th>\n",
       "      <td>891</td>\n",
       "      <td>0</td>\n",
       "      <td>3</td>\n",
       "      <td>32.0</td>\n",
       "      <td>0</td>\n",
       "      <td>0</td>\n",
       "      <td>7.7500</td>\n",
       "    </tr>\n",
       "  </tbody>\n",
       "</table>\n",
       "<p>714 rows × 7 columns</p>\n",
       "</div>"
      ],
      "text/plain": [
       "     PassengerId  Survived  Pclass   Age  SibSp  Parch     Fare\n",
       "0              1         0       3  22.0      1      0   7.2500\n",
       "1              2         1       1  38.0      1      0  71.2833\n",
       "2              3         1       3  26.0      0      0   7.9250\n",
       "3              4         1       1  35.0      1      0  53.1000\n",
       "4              5         0       3  35.0      0      0   8.0500\n",
       "..           ...       ...     ...   ...    ...    ...      ...\n",
       "885          886         0       3  39.0      0      5  29.1250\n",
       "886          887         0       2  27.0      0      0  13.0000\n",
       "887          888         1       1  19.0      0      0  30.0000\n",
       "889          890         1       1  26.0      0      0  30.0000\n",
       "890          891         0       3  32.0      0      0   7.7500\n",
       "\n",
       "[714 rows x 7 columns]"
      ]
     },
     "execution_count": 12,
     "metadata": {},
     "output_type": "execute_result"
    }
   ],
   "source": [
    "# Visualização do dataframe\n",
    "df2"
   ]
  },
  {
   "cell_type": "code",
   "execution_count": 13,
   "id": "affb12c7",
   "metadata": {
    "execution": {
     "iopub.execute_input": "2025-03-07T21:56:23.409761Z",
     "iopub.status.busy": "2025-03-07T21:56:23.409356Z",
     "iopub.status.idle": "2025-03-07T21:56:23.429595Z",
     "shell.execute_reply": "2025-03-07T21:56:23.428683Z"
    },
    "papermill": {
     "duration": 0.032221,
     "end_time": "2025-03-07T21:56:23.431159",
     "exception": false,
     "start_time": "2025-03-07T21:56:23.398938",
     "status": "completed"
    },
    "tags": []
   },
   "outputs": [
    {
     "data": {
      "text/html": [
       "<div>\n",
       "<style scoped>\n",
       "    .dataframe tbody tr th:only-of-type {\n",
       "        vertical-align: middle;\n",
       "    }\n",
       "\n",
       "    .dataframe tbody tr th {\n",
       "        vertical-align: top;\n",
       "    }\n",
       "\n",
       "    .dataframe thead th {\n",
       "        text-align: right;\n",
       "    }\n",
       "</style>\n",
       "<table border=\"1\" class=\"dataframe\">\n",
       "  <thead>\n",
       "    <tr style=\"text-align: right;\">\n",
       "      <th></th>\n",
       "      <th>PassengerId</th>\n",
       "      <th>Survived</th>\n",
       "      <th>Pclass</th>\n",
       "      <th>Age</th>\n",
       "      <th>SibSp</th>\n",
       "      <th>Parch</th>\n",
       "      <th>Fare</th>\n",
       "      <th>AgeGroups</th>\n",
       "    </tr>\n",
       "  </thead>\n",
       "  <tbody>\n",
       "    <tr>\n",
       "      <th>0</th>\n",
       "      <td>1</td>\n",
       "      <td>0</td>\n",
       "      <td>3</td>\n",
       "      <td>22.0</td>\n",
       "      <td>1</td>\n",
       "      <td>0</td>\n",
       "      <td>7.2500</td>\n",
       "      <td>20-30</td>\n",
       "    </tr>\n",
       "    <tr>\n",
       "      <th>1</th>\n",
       "      <td>2</td>\n",
       "      <td>1</td>\n",
       "      <td>1</td>\n",
       "      <td>38.0</td>\n",
       "      <td>1</td>\n",
       "      <td>0</td>\n",
       "      <td>71.2833</td>\n",
       "      <td>30-40</td>\n",
       "    </tr>\n",
       "    <tr>\n",
       "      <th>2</th>\n",
       "      <td>3</td>\n",
       "      <td>1</td>\n",
       "      <td>3</td>\n",
       "      <td>26.0</td>\n",
       "      <td>0</td>\n",
       "      <td>0</td>\n",
       "      <td>7.9250</td>\n",
       "      <td>20-30</td>\n",
       "    </tr>\n",
       "    <tr>\n",
       "      <th>3</th>\n",
       "      <td>4</td>\n",
       "      <td>1</td>\n",
       "      <td>1</td>\n",
       "      <td>35.0</td>\n",
       "      <td>1</td>\n",
       "      <td>0</td>\n",
       "      <td>53.1000</td>\n",
       "      <td>30-40</td>\n",
       "    </tr>\n",
       "    <tr>\n",
       "      <th>4</th>\n",
       "      <td>5</td>\n",
       "      <td>0</td>\n",
       "      <td>3</td>\n",
       "      <td>35.0</td>\n",
       "      <td>0</td>\n",
       "      <td>0</td>\n",
       "      <td>8.0500</td>\n",
       "      <td>30-40</td>\n",
       "    </tr>\n",
       "    <tr>\n",
       "      <th>...</th>\n",
       "      <td>...</td>\n",
       "      <td>...</td>\n",
       "      <td>...</td>\n",
       "      <td>...</td>\n",
       "      <td>...</td>\n",
       "      <td>...</td>\n",
       "      <td>...</td>\n",
       "      <td>...</td>\n",
       "    </tr>\n",
       "    <tr>\n",
       "      <th>885</th>\n",
       "      <td>886</td>\n",
       "      <td>0</td>\n",
       "      <td>3</td>\n",
       "      <td>39.0</td>\n",
       "      <td>0</td>\n",
       "      <td>5</td>\n",
       "      <td>29.1250</td>\n",
       "      <td>30-40</td>\n",
       "    </tr>\n",
       "    <tr>\n",
       "      <th>886</th>\n",
       "      <td>887</td>\n",
       "      <td>0</td>\n",
       "      <td>2</td>\n",
       "      <td>27.0</td>\n",
       "      <td>0</td>\n",
       "      <td>0</td>\n",
       "      <td>13.0000</td>\n",
       "      <td>20-30</td>\n",
       "    </tr>\n",
       "    <tr>\n",
       "      <th>887</th>\n",
       "      <td>888</td>\n",
       "      <td>1</td>\n",
       "      <td>1</td>\n",
       "      <td>19.0</td>\n",
       "      <td>0</td>\n",
       "      <td>0</td>\n",
       "      <td>30.0000</td>\n",
       "      <td>10-20</td>\n",
       "    </tr>\n",
       "    <tr>\n",
       "      <th>889</th>\n",
       "      <td>890</td>\n",
       "      <td>1</td>\n",
       "      <td>1</td>\n",
       "      <td>26.0</td>\n",
       "      <td>0</td>\n",
       "      <td>0</td>\n",
       "      <td>30.0000</td>\n",
       "      <td>20-30</td>\n",
       "    </tr>\n",
       "    <tr>\n",
       "      <th>890</th>\n",
       "      <td>891</td>\n",
       "      <td>0</td>\n",
       "      <td>3</td>\n",
       "      <td>32.0</td>\n",
       "      <td>0</td>\n",
       "      <td>0</td>\n",
       "      <td>7.7500</td>\n",
       "      <td>30-40</td>\n",
       "    </tr>\n",
       "  </tbody>\n",
       "</table>\n",
       "<p>714 rows × 8 columns</p>\n",
       "</div>"
      ],
      "text/plain": [
       "     PassengerId  Survived  Pclass   Age  SibSp  Parch     Fare AgeGroups\n",
       "0              1         0       3  22.0      1      0   7.2500     20-30\n",
       "1              2         1       1  38.0      1      0  71.2833     30-40\n",
       "2              3         1       3  26.0      0      0   7.9250     20-30\n",
       "3              4         1       1  35.0      1      0  53.1000     30-40\n",
       "4              5         0       3  35.0      0      0   8.0500     30-40\n",
       "..           ...       ...     ...   ...    ...    ...      ...       ...\n",
       "885          886         0       3  39.0      0      5  29.1250     30-40\n",
       "886          887         0       2  27.0      0      0  13.0000     20-30\n",
       "887          888         1       1  19.0      0      0  30.0000     10-20\n",
       "889          890         1       1  26.0      0      0  30.0000     20-30\n",
       "890          891         0       3  32.0      0      0   7.7500     30-40\n",
       "\n",
       "[714 rows x 8 columns]"
      ]
     },
     "execution_count": 13,
     "metadata": {},
     "output_type": "execute_result"
    }
   ],
   "source": [
    "# Lista com os grupos em que as idades serão repartidas\n",
    "age_groups = ['0-10','10-20','20-30','30-40','40-50','50-60','60-70','70-80']\n",
    "\n",
    "# Separando as idades em oito grupos e criando nova coluna com os grupos\n",
    "df2['AgeGroups'] = pd.cut(df2['Age'], bins=[0, 10, 20, 30, 40, 50, 60, 70, 80], labels=age_groups)\n",
    "df2"
   ]
  },
  {
   "cell_type": "code",
   "execution_count": 14,
   "id": "299c3ddc",
   "metadata": {
    "execution": {
     "iopub.execute_input": "2025-03-07T21:56:23.453163Z",
     "iopub.status.busy": "2025-03-07T21:56:23.452808Z",
     "iopub.status.idle": "2025-03-07T21:56:23.464757Z",
     "shell.execute_reply": "2025-03-07T21:56:23.463658Z"
    },
    "papermill": {
     "duration": 0.024414,
     "end_time": "2025-03-07T21:56:23.466497",
     "exception": false,
     "start_time": "2025-03-07T21:56:23.442083",
     "status": "completed"
    },
    "tags": []
   },
   "outputs": [
    {
     "name": "stdout",
     "output_type": "stream",
     "text": [
      "<class 'pandas.core.frame.DataFrame'>\n",
      "Index: 714 entries, 0 to 890\n",
      "Data columns (total 8 columns):\n",
      " #   Column       Non-Null Count  Dtype   \n",
      "---  ------       --------------  -----   \n",
      " 0   PassengerId  714 non-null    int64   \n",
      " 1   Survived     714 non-null    int64   \n",
      " 2   Pclass       714 non-null    int64   \n",
      " 3   Age          714 non-null    float64 \n",
      " 4   SibSp        714 non-null    int64   \n",
      " 5   Parch        714 non-null    int64   \n",
      " 6   Fare         714 non-null    float64 \n",
      " 7   AgeGroups    714 non-null    category\n",
      "dtypes: category(1), float64(2), int64(5)\n",
      "memory usage: 45.7 KB\n"
     ]
    }
   ],
   "source": [
    "# AgeGroups coluna categórica\n",
    "df2.info()"
   ]
  },
  {
   "cell_type": "code",
   "execution_count": 15,
   "id": "56e8a137",
   "metadata": {
    "execution": {
     "iopub.execute_input": "2025-03-07T21:56:23.487308Z",
     "iopub.status.busy": "2025-03-07T21:56:23.486935Z",
     "iopub.status.idle": "2025-03-07T21:56:23.948524Z",
     "shell.execute_reply": "2025-03-07T21:56:23.947316Z"
    },
    "papermill": {
     "duration": 0.473944,
     "end_time": "2025-03-07T21:56:23.950318",
     "exception": false,
     "start_time": "2025-03-07T21:56:23.476374",
     "status": "completed"
    },
    "tags": []
   },
   "outputs": [
    {
     "name": "stderr",
     "output_type": "stream",
     "text": [
      "/usr/local/lib/python3.10/dist-packages/seaborn/categorical.py:641: FutureWarning: The default of observed=False is deprecated and will be changed to True in a future version of pandas. Pass observed=False to retain current behavior or observed=True to adopt the future default and silence this warning.\n",
      "  grouped_vals = vals.groupby(grouper)\n"
     ]
    },
    {
     "data": {
      "text/plain": [
       "<Axes: xlabel='AgeGroups', ylabel='Survived'>"
      ]
     },
     "execution_count": 15,
     "metadata": {},
     "output_type": "execute_result"
    },
    {
     "data": {
      "image/png": "[encoded data removed]",
      "text/plain": [
       "<Figure size 640x480 with 1 Axes>"
      ]
     },
     "metadata": {},
     "output_type": "display_data"
    }
   ],
   "source": [
    "# Gráfico que indica a chance de sobrevivência por grupo de idade\n",
    "df_graphic = df2[['Survived','AgeGroups']]\n",
    "sns.barplot(x=df_graphic['AgeGroups'], y=df_graphic['Survived'])"
   ]
  },
  {
   "cell_type": "markdown",
   "id": "2027ea00",
   "metadata": {
    "papermill": {
     "duration": 0.010185,
     "end_time": "2025-03-07T21:56:23.971079",
     "exception": false,
     "start_time": "2025-03-07T21:56:23.960894",
     "status": "completed"
    },
    "tags": []
   },
   "source": [
    "Crianças de 0 a 10 anos tinham mais chance de sobrevivência provavelmente devido a prioridade de resgate."
   ]
  },
  {
   "cell_type": "code",
   "execution_count": 16,
   "id": "d856dc0a",
   "metadata": {
    "execution": {
     "iopub.execute_input": "2025-03-07T21:56:23.993090Z",
     "iopub.status.busy": "2025-03-07T21:56:23.992757Z",
     "iopub.status.idle": "2025-03-07T21:56:24.220355Z",
     "shell.execute_reply": "2025-03-07T21:56:24.219273Z"
    },
    "papermill": {
     "duration": 0.240592,
     "end_time": "2025-03-07T21:56:24.222114",
     "exception": false,
     "start_time": "2025-03-07T21:56:23.981522",
     "status": "completed"
    },
    "tags": []
   },
   "outputs": [
    {
     "data": {
      "text/plain": [
       "<Axes: xlabel='Pclass', ylabel='Survived'>"
      ]
     },
     "execution_count": 16,
     "metadata": {},
     "output_type": "execute_result"
    },
    {
     "data": {
      "image/png": "[encoded data removed]",
      "text/plain": [
       "<Figure size 640x480 with 1 Axes>"
      ]
     },
     "metadata": {},
     "output_type": "display_data"
    }
   ],
   "source": [
    "# Gráfico que indica a chance de sobrevivência por classe da passagem\n",
    "sns.barplot(x=df2['Pclass'], y=df2['Survived'])"
   ]
  },
  {
   "cell_type": "markdown",
   "id": "820a8dfe",
   "metadata": {
    "papermill": {
     "duration": 0.010552,
     "end_time": "2025-03-07T21:56:24.243595",
     "exception": false,
     "start_time": "2025-03-07T21:56:24.233043",
     "status": "completed"
    },
    "tags": []
   },
   "source": [
    "Provável prioridade no resgate por serem pessoas com maior poder aquisitivo aumentaram a taxa de sobrevivência dessas pessoas."
   ]
  },
  {
   "cell_type": "code",
   "execution_count": 17,
   "id": "b44ffdfa",
   "metadata": {
    "execution": {
     "iopub.execute_input": "2025-03-07T21:56:24.266199Z",
     "iopub.status.busy": "2025-03-07T21:56:24.265870Z",
     "iopub.status.idle": "2025-03-07T21:56:24.572702Z",
     "shell.execute_reply": "2025-03-07T21:56:24.571594Z"
    },
    "papermill": {
     "duration": 0.3205,
     "end_time": "2025-03-07T21:56:24.574719",
     "exception": false,
     "start_time": "2025-03-07T21:56:24.254219",
     "status": "completed"
    },
    "tags": []
   },
   "outputs": [
    {
     "data": {
      "text/plain": [
       "<Axes: xlabel='SibSp', ylabel='Survived'>"
      ]
     },
     "execution_count": 17,
     "metadata": {},
     "output_type": "execute_result"
    },
    {
     "data": {
      "image/png": "[encoded data removed]",
      "text/plain": [
       "<Figure size 640x480 with 1 Axes>"
      ]
     },
     "metadata": {},
     "output_type": "display_data"
    }
   ],
   "source": [
    "# Gráfico que indica a chance de sobrevivência por número de irmãos/cônjuges\n",
    "sns.barplot(x=df2['SibSp'], y=df2['Survived'])"
   ]
  },
  {
   "cell_type": "markdown",
   "id": "f62e5843",
   "metadata": {
    "papermill": {
     "duration": 0.012115,
     "end_time": "2025-03-07T21:56:24.600560",
     "exception": false,
     "start_time": "2025-03-07T21:56:24.588445",
     "status": "completed"
    },
    "tags": []
   },
   "source": [
    "Prioridade aos passegeiros com um a dois familiares presentes. "
   ]
  },
  {
   "cell_type": "code",
   "execution_count": 18,
   "id": "d459912b",
   "metadata": {
    "execution": {
     "iopub.execute_input": "2025-03-07T21:56:24.624361Z",
     "iopub.status.busy": "2025-03-07T21:56:24.623975Z",
     "iopub.status.idle": "2025-03-07T21:56:24.930290Z",
     "shell.execute_reply": "2025-03-07T21:56:24.929078Z"
    },
    "papermill": {
     "duration": 0.320279,
     "end_time": "2025-03-07T21:56:24.932031",
     "exception": false,
     "start_time": "2025-03-07T21:56:24.611752",
     "status": "completed"
    },
    "tags": []
   },
   "outputs": [
    {
     "data": {
      "text/plain": [
       "<Axes: xlabel='Parch', ylabel='Survived'>"
      ]
     },
     "execution_count": 18,
     "metadata": {},
     "output_type": "execute_result"
    },
    {
     "data": {
      "image/png": "[encoded data removed]",
      "text/plain": [
       "<Figure size 640x480 with 1 Axes>"
      ]
     },
     "metadata": {},
     "output_type": "display_data"
    }
   ],
   "source": [
    "# Gráfico que indica a chance de sobrevivência por número de pais/filhos\n",
    "sns.barplot(x=df2['Parch'], y=df2['Survived'])"
   ]
  },
  {
   "cell_type": "markdown",
   "id": "fe08ccb9",
   "metadata": {
    "papermill": {
     "duration": 0.01143,
     "end_time": "2025-03-07T21:56:24.955298",
     "exception": false,
     "start_time": "2025-03-07T21:56:24.943868",
     "status": "completed"
    },
    "tags": []
   },
   "source": [
    "Como visto no gráfico anterior, pessoas com filhos ou pais foram priorizados para manter famílias vivas."
   ]
  },
  {
   "cell_type": "markdown",
   "id": "43520d1c",
   "metadata": {
    "papermill": {
     "duration": 0.01155,
     "end_time": "2025-03-07T21:56:24.978588",
     "exception": false,
     "start_time": "2025-03-07T21:56:24.967038",
     "status": "completed"
    },
    "tags": []
   },
   "source": [
    "## 6.3 Treinamento do modelo e submissão das predições"
   ]
  },
  {
   "cell_type": "code",
   "execution_count": 19,
   "id": "f16e8c05",
   "metadata": {
    "execution": {
     "iopub.execute_input": "2025-03-07T21:56:25.003558Z",
     "iopub.status.busy": "2025-03-07T21:56:25.003132Z",
     "iopub.status.idle": "2025-03-07T21:56:25.017686Z",
     "shell.execute_reply": "2025-03-07T21:56:25.016571Z"
    },
    "papermill": {
     "duration": 0.028856,
     "end_time": "2025-03-07T21:56:25.019187",
     "exception": false,
     "start_time": "2025-03-07T21:56:24.990331",
     "status": "completed"
    },
    "tags": []
   },
   "outputs": [
    {
     "data": {
      "text/html": [
       "<div>\n",
       "<style scoped>\n",
       "    .dataframe tbody tr th:only-of-type {\n",
       "        vertical-align: middle;\n",
       "    }\n",
       "\n",
       "    .dataframe tbody tr th {\n",
       "        vertical-align: top;\n",
       "    }\n",
       "\n",
       "    .dataframe thead th {\n",
       "        text-align: right;\n",
       "    }\n",
       "</style>\n",
       "<table border=\"1\" class=\"dataframe\">\n",
       "  <thead>\n",
       "    <tr style=\"text-align: right;\">\n",
       "      <th></th>\n",
       "      <th>Survived</th>\n",
       "      <th>Pclass</th>\n",
       "      <th>Age</th>\n",
       "      <th>SibSp</th>\n",
       "      <th>Parch</th>\n",
       "      <th>Fare</th>\n",
       "      <th>AgeGroups</th>\n",
       "    </tr>\n",
       "  </thead>\n",
       "  <tbody>\n",
       "    <tr>\n",
       "      <th>0</th>\n",
       "      <td>0</td>\n",
       "      <td>3</td>\n",
       "      <td>22.0</td>\n",
       "      <td>1</td>\n",
       "      <td>0</td>\n",
       "      <td>7.2500</td>\n",
       "      <td>20-30</td>\n",
       "    </tr>\n",
       "    <tr>\n",
       "      <th>1</th>\n",
       "      <td>1</td>\n",
       "      <td>1</td>\n",
       "      <td>38.0</td>\n",
       "      <td>1</td>\n",
       "      <td>0</td>\n",
       "      <td>71.2833</td>\n",
       "      <td>30-40</td>\n",
       "    </tr>\n",
       "    <tr>\n",
       "      <th>2</th>\n",
       "      <td>1</td>\n",
       "      <td>3</td>\n",
       "      <td>26.0</td>\n",
       "      <td>0</td>\n",
       "      <td>0</td>\n",
       "      <td>7.9250</td>\n",
       "      <td>20-30</td>\n",
       "    </tr>\n",
       "    <tr>\n",
       "      <th>3</th>\n",
       "      <td>1</td>\n",
       "      <td>1</td>\n",
       "      <td>35.0</td>\n",
       "      <td>1</td>\n",
       "      <td>0</td>\n",
       "      <td>53.1000</td>\n",
       "      <td>30-40</td>\n",
       "    </tr>\n",
       "    <tr>\n",
       "      <th>4</th>\n",
       "      <td>0</td>\n",
       "      <td>3</td>\n",
       "      <td>35.0</td>\n",
       "      <td>0</td>\n",
       "      <td>0</td>\n",
       "      <td>8.0500</td>\n",
       "      <td>30-40</td>\n",
       "    </tr>\n",
       "    <tr>\n",
       "      <th>...</th>\n",
       "      <td>...</td>\n",
       "      <td>...</td>\n",
       "      <td>...</td>\n",
       "      <td>...</td>\n",
       "      <td>...</td>\n",
       "      <td>...</td>\n",
       "      <td>...</td>\n",
       "    </tr>\n",
       "    <tr>\n",
       "      <th>885</th>\n",
       "      <td>0</td>\n",
       "      <td>3</td>\n",
       "      <td>39.0</td>\n",
       "      <td>0</td>\n",
       "      <td>5</td>\n",
       "      <td>29.1250</td>\n",
       "      <td>30-40</td>\n",
       "    </tr>\n",
       "    <tr>\n",
       "      <th>886</th>\n",
       "      <td>0</td>\n",
       "      <td>2</td>\n",
       "      <td>27.0</td>\n",
       "      <td>0</td>\n",
       "      <td>0</td>\n",
       "      <td>13.0000</td>\n",
       "      <td>20-30</td>\n",
       "    </tr>\n",
       "    <tr>\n",
       "      <th>887</th>\n",
       "      <td>1</td>\n",
       "      <td>1</td>\n",
       "      <td>19.0</td>\n",
       "      <td>0</td>\n",
       "      <td>0</td>\n",
       "      <td>30.0000</td>\n",
       "      <td>10-20</td>\n",
       "    </tr>\n",
       "    <tr>\n",
       "      <th>889</th>\n",
       "      <td>1</td>\n",
       "      <td>1</td>\n",
       "      <td>26.0</td>\n",
       "      <td>0</td>\n",
       "      <td>0</td>\n",
       "      <td>30.0000</td>\n",
       "      <td>20-30</td>\n",
       "    </tr>\n",
       "    <tr>\n",
       "      <th>890</th>\n",
       "      <td>0</td>\n",
       "      <td>3</td>\n",
       "      <td>32.0</td>\n",
       "      <td>0</td>\n",
       "      <td>0</td>\n",
       "      <td>7.7500</td>\n",
       "      <td>30-40</td>\n",
       "    </tr>\n",
       "  </tbody>\n",
       "</table>\n",
       "<p>714 rows × 7 columns</p>\n",
       "</div>"
      ],
      "text/plain": [
       "     Survived  Pclass   Age  SibSp  Parch     Fare AgeGroups\n",
       "0           0       3  22.0      1      0   7.2500     20-30\n",
       "1           1       1  38.0      1      0  71.2833     30-40\n",
       "2           1       3  26.0      0      0   7.9250     20-30\n",
       "3           1       1  35.0      1      0  53.1000     30-40\n",
       "4           0       3  35.0      0      0   8.0500     30-40\n",
       "..        ...     ...   ...    ...    ...      ...       ...\n",
       "885         0       3  39.0      0      5  29.1250     30-40\n",
       "886         0       2  27.0      0      0  13.0000     20-30\n",
       "887         1       1  19.0      0      0  30.0000     10-20\n",
       "889         1       1  26.0      0      0  30.0000     20-30\n",
       "890         0       3  32.0      0      0   7.7500     30-40\n",
       "\n",
       "[714 rows x 7 columns]"
      ]
     },
     "execution_count": 19,
     "metadata": {},
     "output_type": "execute_result"
    }
   ],
   "source": [
    "# Retirando a coluna que contém o ID dos passageiros\n",
    "df_dropped = df2.drop(['PassengerId'], axis=1)\n",
    "df_dropped"
   ]
  },
  {
   "cell_type": "code",
   "execution_count": 20,
   "id": "f8f45df9",
   "metadata": {
    "execution": {
     "iopub.execute_input": "2025-03-07T21:56:25.044634Z",
     "iopub.status.busy": "2025-03-07T21:56:25.044184Z",
     "iopub.status.idle": "2025-03-07T21:56:25.054717Z",
     "shell.execute_reply": "2025-03-07T21:56:25.053482Z"
    },
    "papermill": {
     "duration": 0.024912,
     "end_time": "2025-03-07T21:56:25.056259",
     "exception": false,
     "start_time": "2025-03-07T21:56:25.031347",
     "status": "completed"
    },
    "tags": []
   },
   "outputs": [
    {
     "name": "stdout",
     "output_type": "stream",
     "text": [
      "<class 'pandas.core.frame.DataFrame'>\n",
      "Index: 714 entries, 0 to 890\n",
      "Data columns (total 8 columns):\n",
      " #   Column       Non-Null Count  Dtype   \n",
      "---  ------       --------------  -----   \n",
      " 0   PassengerId  714 non-null    int64   \n",
      " 1   Survived     714 non-null    int64   \n",
      " 2   Pclass       714 non-null    int64   \n",
      " 3   Age          714 non-null    float64 \n",
      " 4   SibSp        714 non-null    int64   \n",
      " 5   Parch        714 non-null    int64   \n",
      " 6   Fare         714 non-null    float64 \n",
      " 7   AgeGroups    714 non-null    category\n",
      "dtypes: category(1), float64(2), int64(5)\n",
      "memory usage: 45.7 KB\n"
     ]
    }
   ],
   "source": [
    "# Informações do dataframe\n",
    "df2.info()"
   ]
  },
  {
   "cell_type": "code",
   "execution_count": 21,
   "id": "21b52d21",
   "metadata": {
    "execution": {
     "iopub.execute_input": "2025-03-07T21:56:25.081684Z",
     "iopub.status.busy": "2025-03-07T21:56:25.081282Z",
     "iopub.status.idle": "2025-03-07T21:56:25.410763Z",
     "shell.execute_reply": "2025-03-07T21:56:25.409681Z"
    },
    "papermill": {
     "duration": 0.344398,
     "end_time": "2025-03-07T21:56:25.412689",
     "exception": false,
     "start_time": "2025-03-07T21:56:25.068291",
     "status": "completed"
    },
    "tags": []
   },
   "outputs": [],
   "source": [
    "# Criando variável X com os dados das features\n",
    "X = df_dropped.drop(['AgeGroups','Survived'], axis=1)\n",
    "\n",
    "# Criando variável y com o target \n",
    "y = df2['Survived']\n",
    "\n",
    "# Importando a biblioteca\n",
    "from sklearn.model_selection import train_test_split\n",
    "\n",
    "# Usando Train Test Split para separar o treino e validação\n",
    "train_X, test_X, train_y, test_y = train_test_split(X, y, test_size=0.8, random_state=1)"
   ]
  },
  {
   "cell_type": "code",
   "execution_count": 22,
   "id": "264242e7",
   "metadata": {
    "execution": {
     "iopub.execute_input": "2025-03-07T21:56:25.439935Z",
     "iopub.status.busy": "2025-03-07T21:56:25.439589Z",
     "iopub.status.idle": "2025-03-07T21:56:26.138673Z",
     "shell.execute_reply": "2025-03-07T21:56:26.137692Z"
    },
    "papermill": {
     "duration": 0.71551,
     "end_time": "2025-03-07T21:56:26.140604",
     "exception": false,
     "start_time": "2025-03-07T21:56:25.425094",
     "status": "completed"
    },
    "tags": []
   },
   "outputs": [
    {
     "data": {
      "text/plain": [
       "0.6783216783216783"
      ]
     },
     "execution_count": 22,
     "metadata": {},
     "output_type": "execute_result"
    }
   ],
   "source": [
    "# Importando as bibliotecas\n",
    "from sklearn.ensemble import RandomForestClassifier\n",
    "from sklearn.metrics import accuracy_score\n",
    "\n",
    "# Treinando random forest com as features e o target de treino\n",
    "model = RandomForestClassifier(random_state=1)\n",
    "model.fit(train_X, train_y)\n",
    "\n",
    "# Realizando a predição\n",
    "pred = model.predict(test_X)\n",
    "\n",
    "# Validando a predição, comparando com o target da validação\n",
    "accuracy_score(test_y, pred)"
   ]
  },
  {
   "cell_type": "markdown",
   "id": "5bc153fb",
   "metadata": {
    "papermill": {
     "duration": 0.011745,
     "end_time": "2025-03-07T21:56:26.164604",
     "exception": false,
     "start_time": "2025-03-07T21:56:26.152859",
     "status": "completed"
    },
    "tags": []
   },
   "source": [
    "Pontuação não satisfatória."
   ]
  },
  {
   "cell_type": "code",
   "execution_count": 23,
   "id": "7d52b8aa",
   "metadata": {
    "execution": {
     "iopub.execute_input": "2025-03-07T21:56:26.195722Z",
     "iopub.status.busy": "2025-03-07T21:56:26.195229Z",
     "iopub.status.idle": "2025-03-07T21:56:26.445164Z",
     "shell.execute_reply": "2025-03-07T21:56:26.443952Z"
    },
    "papermill": {
     "duration": 0.269765,
     "end_time": "2025-03-07T21:56:26.446981",
     "exception": false,
     "start_time": "2025-03-07T21:56:26.177216",
     "status": "completed"
    },
    "tags": []
   },
   "outputs": [
    {
     "data": {
      "text/html": [
       "<div>\n",
       "<style scoped>\n",
       "    .dataframe tbody tr th:only-of-type {\n",
       "        vertical-align: middle;\n",
       "    }\n",
       "\n",
       "    .dataframe tbody tr th {\n",
       "        vertical-align: top;\n",
       "    }\n",
       "\n",
       "    .dataframe thead th {\n",
       "        text-align: right;\n",
       "    }\n",
       "</style>\n",
       "<table border=\"1\" class=\"dataframe\">\n",
       "  <thead>\n",
       "    <tr style=\"text-align: right;\">\n",
       "      <th></th>\n",
       "      <th>PassengerId</th>\n",
       "      <th>Survived</th>\n",
       "    </tr>\n",
       "  </thead>\n",
       "  <tbody>\n",
       "    <tr>\n",
       "      <th>0</th>\n",
       "      <td>892</td>\n",
       "      <td>0</td>\n",
       "    </tr>\n",
       "    <tr>\n",
       "      <th>1</th>\n",
       "      <td>893</td>\n",
       "      <td>0</td>\n",
       "    </tr>\n",
       "    <tr>\n",
       "      <th>2</th>\n",
       "      <td>894</td>\n",
       "      <td>1</td>\n",
       "    </tr>\n",
       "    <tr>\n",
       "      <th>3</th>\n",
       "      <td>895</td>\n",
       "      <td>1</td>\n",
       "    </tr>\n",
       "    <tr>\n",
       "      <th>4</th>\n",
       "      <td>896</td>\n",
       "      <td>0</td>\n",
       "    </tr>\n",
       "    <tr>\n",
       "      <th>...</th>\n",
       "      <td>...</td>\n",
       "      <td>...</td>\n",
       "    </tr>\n",
       "    <tr>\n",
       "      <th>413</th>\n",
       "      <td>1305</td>\n",
       "      <td>1</td>\n",
       "    </tr>\n",
       "    <tr>\n",
       "      <th>414</th>\n",
       "      <td>1306</td>\n",
       "      <td>1</td>\n",
       "    </tr>\n",
       "    <tr>\n",
       "      <th>415</th>\n",
       "      <td>1307</td>\n",
       "      <td>0</td>\n",
       "    </tr>\n",
       "    <tr>\n",
       "      <th>416</th>\n",
       "      <td>1308</td>\n",
       "      <td>1</td>\n",
       "    </tr>\n",
       "    <tr>\n",
       "      <th>417</th>\n",
       "      <td>1309</td>\n",
       "      <td>1</td>\n",
       "    </tr>\n",
       "  </tbody>\n",
       "</table>\n",
       "<p>418 rows × 2 columns</p>\n",
       "</div>"
      ],
      "text/plain": [
       "     PassengerId  Survived\n",
       "0            892         0\n",
       "1            893         0\n",
       "2            894         1\n",
       "3            895         1\n",
       "4            896         0\n",
       "..           ...       ...\n",
       "413         1305         1\n",
       "414         1306         1\n",
       "415         1307         0\n",
       "416         1308         1\n",
       "417         1309         1\n",
       "\n",
       "[418 rows x 2 columns]"
      ]
     },
     "execution_count": 23,
     "metadata": {},
     "output_type": "execute_result"
    }
   ],
   "source": [
    "# Treinando novamente o modelo\n",
    "model.fit(X, y)\n",
    "prediction = model.predict(df1.drop('PassengerId', axis=1)) \n",
    "\n",
    "# Criando um DataFrame com os mesmos índices dos dados de teste e as predições feitas pelo modelo\n",
    "idx = df1.index \n",
    "predictions_df = pd.DataFrame({\n",
    "    'PassengerId': df1['PassengerId'], \n",
    "    'Survived': prediction \n",
    "})\n",
    "\n",
    "# Salvando em arquivo csv\n",
    "predictions_df.to_csv('predictions.csv', index=False)\n",
    "predictions_df"
   ]
  },
  {
   "cell_type": "markdown",
   "id": "73240086",
   "metadata": {
    "papermill": {
     "duration": 0.015003,
     "end_time": "2025-03-07T21:56:26.475873",
     "exception": false,
     "start_time": "2025-03-07T21:56:26.460870",
     "status": "completed"
    },
    "tags": []
   },
   "source": [
    "# 7. Machine Learning Clássico\n",
    "## 7.1 Data Cleaning"
   ]
  },
  {
   "cell_type": "code",
   "execution_count": 24,
   "id": "1717c7bf",
   "metadata": {
    "execution": {
     "iopub.execute_input": "2025-03-07T21:56:26.504213Z",
     "iopub.status.busy": "2025-03-07T21:56:26.503874Z",
     "iopub.status.idle": "2025-03-07T21:56:26.514025Z",
     "shell.execute_reply": "2025-03-07T21:56:26.512599Z"
    },
    "papermill": {
     "duration": 0.025669,
     "end_time": "2025-03-07T21:56:26.515583",
     "exception": false,
     "start_time": "2025-03-07T21:56:26.489914",
     "status": "completed"
    },
    "tags": []
   },
   "outputs": [
    {
     "name": "stdout",
     "output_type": "stream",
     "text": [
      "<class 'pandas.core.frame.DataFrame'>\n",
      "RangeIndex: 418 entries, 0 to 417\n",
      "Data columns (total 11 columns):\n",
      " #   Column       Non-Null Count  Dtype  \n",
      "---  ------       --------------  -----  \n",
      " 0   PassengerId  418 non-null    int64  \n",
      " 1   Pclass       418 non-null    int64  \n",
      " 2   Name         418 non-null    object \n",
      " 3   Sex          418 non-null    object \n",
      " 4   Age          332 non-null    float64\n",
      " 5   SibSp        418 non-null    int64  \n",
      " 6   Parch        418 non-null    int64  \n",
      " 7   Ticket       418 non-null    object \n",
      " 8   Fare         417 non-null    float64\n",
      " 9   Cabin        91 non-null     object \n",
      " 10  Embarked     418 non-null    object \n",
      "dtypes: float64(2), int64(4), object(5)\n",
      "memory usage: 36.0+ KB\n"
     ]
    }
   ],
   "source": [
    "# Coluna e seu respectivo tipo de dado do banco de dados de teste\n",
    "test_data.info()"
   ]
  },
  {
   "cell_type": "code",
   "execution_count": 25,
   "id": "cbabe5b1",
   "metadata": {
    "execution": {
     "iopub.execute_input": "2025-03-07T21:56:26.542145Z",
     "iopub.status.busy": "2025-03-07T21:56:26.541771Z",
     "iopub.status.idle": "2025-03-07T21:56:26.552992Z",
     "shell.execute_reply": "2025-03-07T21:56:26.551725Z"
    },
    "papermill": {
     "duration": 0.026164,
     "end_time": "2025-03-07T21:56:26.554436",
     "exception": false,
     "start_time": "2025-03-07T21:56:26.528272",
     "status": "completed"
    },
    "tags": []
   },
   "outputs": [
    {
     "name": "stdout",
     "output_type": "stream",
     "text": [
      "<class 'pandas.core.frame.DataFrame'>\n",
      "RangeIndex: 891 entries, 0 to 890\n",
      "Data columns (total 12 columns):\n",
      " #   Column       Non-Null Count  Dtype  \n",
      "---  ------       --------------  -----  \n",
      " 0   PassengerId  891 non-null    int64  \n",
      " 1   Survived     891 non-null    int64  \n",
      " 2   Pclass       891 non-null    int64  \n",
      " 3   Name         891 non-null    object \n",
      " 4   Sex          891 non-null    object \n",
      " 5   Age          714 non-null    float64\n",
      " 6   SibSp        891 non-null    int64  \n",
      " 7   Parch        891 non-null    int64  \n",
      " 8   Ticket       891 non-null    object \n",
      " 9   Fare         891 non-null    float64\n",
      " 10  Cabin        204 non-null    object \n",
      " 11  Embarked     889 non-null    object \n",
      "dtypes: float64(2), int64(5), object(5)\n",
      "memory usage: 83.7+ KB\n"
     ]
    }
   ],
   "source": [
    "# Coluna e seu respectivo tipo de dadpo do banco de dados de treino\n",
    "train_data.info()"
   ]
  },
  {
   "cell_type": "code",
   "execution_count": 26,
   "id": "1b1ab02f",
   "metadata": {
    "execution": {
     "iopub.execute_input": "2025-03-07T21:56:26.580536Z",
     "iopub.status.busy": "2025-03-07T21:56:26.580124Z",
     "iopub.status.idle": "2025-03-07T21:56:26.587847Z",
     "shell.execute_reply": "2025-03-07T21:56:26.586885Z"
    },
    "papermill": {
     "duration": 0.02239,
     "end_time": "2025-03-07T21:56:26.589372",
     "exception": false,
     "start_time": "2025-03-07T21:56:26.566982",
     "status": "completed"
    },
    "tags": []
   },
   "outputs": [
    {
     "data": {
      "text/plain": [
       "PassengerId      0\n",
       "Pclass           0\n",
       "Name             0\n",
       "Sex              0\n",
       "Age             86\n",
       "SibSp            0\n",
       "Parch            0\n",
       "Ticket           0\n",
       "Fare             1\n",
       "Cabin          327\n",
       "Embarked         0\n",
       "dtype: int64"
      ]
     },
     "execution_count": 26,
     "metadata": {},
     "output_type": "execute_result"
    }
   ],
   "source": [
    "# Quantidade de valores nulos de cada feature do banco de dados de teste\n",
    "test_data.isnull().sum()"
   ]
  },
  {
   "cell_type": "code",
   "execution_count": 27,
   "id": "ac9cdbf4",
   "metadata": {
    "execution": {
     "iopub.execute_input": "2025-03-07T21:56:26.615792Z",
     "iopub.status.busy": "2025-03-07T21:56:26.615381Z",
     "iopub.status.idle": "2025-03-07T21:56:26.623236Z",
     "shell.execute_reply": "2025-03-07T21:56:26.622057Z"
    },
    "papermill": {
     "duration": 0.022903,
     "end_time": "2025-03-07T21:56:26.624979",
     "exception": false,
     "start_time": "2025-03-07T21:56:26.602076",
     "status": "completed"
    },
    "tags": []
   },
   "outputs": [
    {
     "data": {
      "text/plain": [
       "PassengerId      0\n",
       "Survived         0\n",
       "Pclass           0\n",
       "Name             0\n",
       "Sex              0\n",
       "Age            177\n",
       "SibSp            0\n",
       "Parch            0\n",
       "Ticket           0\n",
       "Fare             0\n",
       "Cabin          687\n",
       "Embarked         2\n",
       "dtype: int64"
      ]
     },
     "execution_count": 27,
     "metadata": {},
     "output_type": "execute_result"
    }
   ],
   "source": [
    "# Quantidade de valores nulos de cada feature do banco de dados de treino\n",
    "train_data.isnull().sum()"
   ]
  },
  {
   "cell_type": "code",
   "execution_count": 28,
   "id": "65af1d64",
   "metadata": {
    "execution": {
     "iopub.execute_input": "2025-03-07T21:56:26.651838Z",
     "iopub.status.busy": "2025-03-07T21:56:26.651408Z",
     "iopub.status.idle": "2025-03-07T21:56:26.656365Z",
     "shell.execute_reply": "2025-03-07T21:56:26.655304Z"
    },
    "papermill": {
     "duration": 0.020388,
     "end_time": "2025-03-07T21:56:26.658138",
     "exception": false,
     "start_time": "2025-03-07T21:56:26.637750",
     "status": "completed"
    },
    "tags": []
   },
   "outputs": [],
   "source": [
    "# Copiando os dataframes\n",
    "X_test = test_data.copy()\n",
    "X_train = train_data.copy()"
   ]
  },
  {
   "cell_type": "code",
   "execution_count": 29,
   "id": "e2551fa5",
   "metadata": {
    "execution": {
     "iopub.execute_input": "2025-03-07T21:56:26.685121Z",
     "iopub.status.busy": "2025-03-07T21:56:26.684781Z",
     "iopub.status.idle": "2025-03-07T21:56:26.692056Z",
     "shell.execute_reply": "2025-03-07T21:56:26.691041Z"
    },
    "papermill": {
     "duration": 0.022508,
     "end_time": "2025-03-07T21:56:26.693777",
     "exception": false,
     "start_time": "2025-03-07T21:56:26.671269",
     "status": "completed"
    },
    "tags": []
   },
   "outputs": [],
   "source": [
    "# Dropando as features \"Cabin\" e \"Ticket\"\n",
    "X_test = X_test.drop(['Cabin', 'Ticket'], axis=1)\n",
    "X_train = X_train.drop(['Cabin', 'Ticket'], axis=1)"
   ]
  },
  {
   "cell_type": "code",
   "execution_count": 30,
   "id": "8b57a419",
   "metadata": {
    "execution": {
     "iopub.execute_input": "2025-03-07T21:56:26.720439Z",
     "iopub.status.busy": "2025-03-07T21:56:26.720089Z",
     "iopub.status.idle": "2025-03-07T21:56:26.726767Z",
     "shell.execute_reply": "2025-03-07T21:56:26.725732Z"
    },
    "papermill": {
     "duration": 0.021904,
     "end_time": "2025-03-07T21:56:26.728362",
     "exception": false,
     "start_time": "2025-03-07T21:56:26.706458",
     "status": "completed"
    },
    "tags": []
   },
   "outputs": [
    {
     "name": "stderr",
     "output_type": "stream",
     "text": [
      "<ipython-input-30-b8679374b8ce>:3: FutureWarning: A value is trying to be set on a copy of a DataFrame or Series through chained assignment using an inplace method.\n",
      "The behavior will change in pandas 3.0. This inplace method will never work because the intermediate object on which we are setting values always behaves as a copy.\n",
      "\n",
      "For example, when doing 'df[col].method(value, inplace=True)', try using 'df.method({col: value}, inplace=True)' or df[col] = df[col].method(value) instead, to perform the operation inplace on the original object.\n",
      "\n",
      "\n",
      "  X_test['Age'].fillna(median1, inplace=True)\n",
      "<ipython-input-30-b8679374b8ce>:6: FutureWarning: A value is trying to be set on a copy of a DataFrame or Series through chained assignment using an inplace method.\n",
      "The behavior will change in pandas 3.0. This inplace method will never work because the intermediate object on which we are setting values always behaves as a copy.\n",
      "\n",
      "For example, when doing 'df[col].method(value, inplace=True)', try using 'df.method({col: value}, inplace=True)' or df[col] = df[col].method(value) instead, to perform the operation inplace on the original object.\n",
      "\n",
      "\n",
      "  X_train['Age'].fillna(median2, inplace=True)\n"
     ]
    }
   ],
   "source": [
    "# Manipulando a feature \"Age\"\n",
    "median1 = X_test['Age'].median()\n",
    "X_test['Age'].fillna(median1, inplace=True)\n",
    "\n",
    "median2 = X_train['Age'].median()\n",
    "X_train['Age'].fillna(median2, inplace=True)"
   ]
  },
  {
   "cell_type": "code",
   "execution_count": 31,
   "id": "7160b3fb",
   "metadata": {
    "execution": {
     "iopub.execute_input": "2025-03-07T21:56:26.754954Z",
     "iopub.status.busy": "2025-03-07T21:56:26.754614Z",
     "iopub.status.idle": "2025-03-07T21:56:26.761110Z",
     "shell.execute_reply": "2025-03-07T21:56:26.760089Z"
    },
    "papermill": {
     "duration": 0.02162,
     "end_time": "2025-03-07T21:56:26.762716",
     "exception": false,
     "start_time": "2025-03-07T21:56:26.741096",
     "status": "completed"
    },
    "tags": []
   },
   "outputs": [
    {
     "name": "stderr",
     "output_type": "stream",
     "text": [
      "<ipython-input-31-7f526e1c51a5>:3: FutureWarning: A value is trying to be set on a copy of a DataFrame or Series through chained assignment using an inplace method.\n",
      "The behavior will change in pandas 3.0. This inplace method will never work because the intermediate object on which we are setting values always behaves as a copy.\n",
      "\n",
      "For example, when doing 'df[col].method(value, inplace=True)', try using 'df.method({col: value}, inplace=True)' or df[col] = df[col].method(value) instead, to perform the operation inplace on the original object.\n",
      "\n",
      "\n",
      "  X_test['Fare'].fillna(median3, inplace=True)\n",
      "<ipython-input-31-7f526e1c51a5>:6: FutureWarning: A value is trying to be set on a copy of a DataFrame or Series through chained assignment using an inplace method.\n",
      "The behavior will change in pandas 3.0. This inplace method will never work because the intermediate object on which we are setting values always behaves as a copy.\n",
      "\n",
      "For example, when doing 'df[col].method(value, inplace=True)', try using 'df.method({col: value}, inplace=True)' or df[col] = df[col].method(value) instead, to perform the operation inplace on the original object.\n",
      "\n",
      "\n",
      "  X_train['Fare'].fillna(median4, inplace=True)\n"
     ]
    }
   ],
   "source": [
    "# Manipulando a feature \"Fare\"\n",
    "median3 = X_test['Fare'].median()\n",
    "X_test['Fare'].fillna(median3, inplace=True)\n",
    "\n",
    "median4 = X_train['Fare'].median()\n",
    "X_train['Fare'].fillna(median4, inplace=True)"
   ]
  },
  {
   "cell_type": "code",
   "execution_count": 32,
   "id": "3f015ee2",
   "metadata": {
    "execution": {
     "iopub.execute_input": "2025-03-07T21:56:26.790843Z",
     "iopub.status.busy": "2025-03-07T21:56:26.790334Z",
     "iopub.status.idle": "2025-03-07T21:56:26.801133Z",
     "shell.execute_reply": "2025-03-07T21:56:26.799838Z"
    },
    "papermill": {
     "duration": 0.027521,
     "end_time": "2025-03-07T21:56:26.803082",
     "exception": false,
     "start_time": "2025-03-07T21:56:26.775561",
     "status": "completed"
    },
    "tags": []
   },
   "outputs": [
    {
     "name": "stderr",
     "output_type": "stream",
     "text": [
      "<ipython-input-32-fabd55c49131>:2: FutureWarning: A value is trying to be set on a copy of a DataFrame or Series through chained assignment using an inplace method.\n",
      "The behavior will change in pandas 3.0. This inplace method will never work because the intermediate object on which we are setting values always behaves as a copy.\n",
      "\n",
      "For example, when doing 'df[col].method(value, inplace=True)', try using 'df.method({col: value}, inplace=True)' or df[col] = df[col].method(value) instead, to perform the operation inplace on the original object.\n",
      "\n",
      "\n",
      "  X_test['Embarked'].fillna(X_test['Embarked'].mode(), inplace=True)\n",
      "<ipython-input-32-fabd55c49131>:3: FutureWarning: A value is trying to be set on a copy of a DataFrame or Series through chained assignment using an inplace method.\n",
      "The behavior will change in pandas 3.0. This inplace method will never work because the intermediate object on which we are setting values always behaves as a copy.\n",
      "\n",
      "For example, when doing 'df[col].method(value, inplace=True)', try using 'df.method({col: value}, inplace=True)' or df[col] = df[col].method(value) instead, to perform the operation inplace on the original object.\n",
      "\n",
      "\n",
      "  X_train['Embarked'].fillna(X_train['Embarked'].mode(), inplace=True)\n"
     ]
    }
   ],
   "source": [
    "# Manipulando a feature \"Embarked\"\n",
    "X_test['Embarked'].fillna(X_test['Embarked'].mode(), inplace=True)\n",
    "X_train['Embarked'].fillna(X_train['Embarked'].mode(), inplace=True)"
   ]
  },
  {
   "cell_type": "code",
   "execution_count": 33,
   "id": "31e837dd",
   "metadata": {
    "execution": {
     "iopub.execute_input": "2025-03-07T21:56:26.833117Z",
     "iopub.status.busy": "2025-03-07T21:56:26.832758Z",
     "iopub.status.idle": "2025-03-07T21:56:26.850118Z",
     "shell.execute_reply": "2025-03-07T21:56:26.849045Z"
    },
    "papermill": {
     "duration": 0.034737,
     "end_time": "2025-03-07T21:56:26.851993",
     "exception": false,
     "start_time": "2025-03-07T21:56:26.817256",
     "status": "completed"
    },
    "tags": []
   },
   "outputs": [],
   "source": [
    "# Criando feature que separa a feature \"Age\" em 5 intervalos de mesma extensão\n",
    "X_test['AgeGroups'] = pd.cut(X_test['Age'], 5)\n",
    "X_train['AgeGroups'] = pd.cut(X_train['Age'], 5)"
   ]
  },
  {
   "cell_type": "code",
   "execution_count": 34,
   "id": "3a97f1df",
   "metadata": {
    "execution": {
     "iopub.execute_input": "2025-03-07T21:56:26.879076Z",
     "iopub.status.busy": "2025-03-07T21:56:26.878738Z",
     "iopub.status.idle": "2025-03-07T21:56:26.889708Z",
     "shell.execute_reply": "2025-03-07T21:56:26.888833Z"
    },
    "papermill": {
     "duration": 0.026306,
     "end_time": "2025-03-07T21:56:26.891296",
     "exception": false,
     "start_time": "2025-03-07T21:56:26.864990",
     "status": "completed"
    },
    "tags": []
   },
   "outputs": [],
   "source": [
    "# Criando feature que separa a feature \"Fare\" em 6 intervalos com o mesmo número de dados\n",
    "X_test['FareGroups'] = pd.qcut(X_test['Fare'], 6)\n",
    "X_train['FareGroups'] = pd.qcut(X_train['Fare'], 6)"
   ]
  },
  {
   "cell_type": "code",
   "execution_count": 35,
   "id": "11465f26",
   "metadata": {
    "execution": {
     "iopub.execute_input": "2025-03-07T21:56:26.918106Z",
     "iopub.status.busy": "2025-03-07T21:56:26.917765Z",
     "iopub.status.idle": "2025-03-07T21:56:26.935461Z",
     "shell.execute_reply": "2025-03-07T21:56:26.934502Z"
    },
    "papermill": {
     "duration": 0.032924,
     "end_time": "2025-03-07T21:56:26.937086",
     "exception": false,
     "start_time": "2025-03-07T21:56:26.904162",
     "status": "completed"
    },
    "tags": []
   },
   "outputs": [
    {
     "data": {
      "text/html": [
       "<div>\n",
       "<style scoped>\n",
       "    .dataframe tbody tr th:only-of-type {\n",
       "        vertical-align: middle;\n",
       "    }\n",
       "\n",
       "    .dataframe tbody tr th {\n",
       "        vertical-align: top;\n",
       "    }\n",
       "\n",
       "    .dataframe thead th {\n",
       "        text-align: right;\n",
       "    }\n",
       "</style>\n",
       "<table border=\"1\" class=\"dataframe\">\n",
       "  <thead>\n",
       "    <tr style=\"text-align: right;\">\n",
       "      <th></th>\n",
       "      <th>PassengerId</th>\n",
       "      <th>Pclass</th>\n",
       "      <th>Name</th>\n",
       "      <th>Sex</th>\n",
       "      <th>Age</th>\n",
       "      <th>SibSp</th>\n",
       "      <th>Parch</th>\n",
       "      <th>Fare</th>\n",
       "      <th>Embarked</th>\n",
       "      <th>AgeGroups</th>\n",
       "      <th>FareGroups</th>\n",
       "    </tr>\n",
       "  </thead>\n",
       "  <tbody>\n",
       "    <tr>\n",
       "      <th>0</th>\n",
       "      <td>892</td>\n",
       "      <td>3</td>\n",
       "      <td>Kelly, Mr. James</td>\n",
       "      <td>male</td>\n",
       "      <td>34.5</td>\n",
       "      <td>0</td>\n",
       "      <td>0</td>\n",
       "      <td>7.8292</td>\n",
       "      <td>Q</td>\n",
       "      <td>(30.502, 45.668]</td>\n",
       "      <td>(7.762, 8.662]</td>\n",
       "    </tr>\n",
       "    <tr>\n",
       "      <th>1</th>\n",
       "      <td>893</td>\n",
       "      <td>3</td>\n",
       "      <td>Wilkes, Mrs. James (Ellen Needs)</td>\n",
       "      <td>female</td>\n",
       "      <td>47.0</td>\n",
       "      <td>1</td>\n",
       "      <td>0</td>\n",
       "      <td>7.0000</td>\n",
       "      <td>S</td>\n",
       "      <td>(45.668, 60.834]</td>\n",
       "      <td>(-0.001, 7.762]</td>\n",
       "    </tr>\n",
       "    <tr>\n",
       "      <th>2</th>\n",
       "      <td>894</td>\n",
       "      <td>2</td>\n",
       "      <td>Myles, Mr. Thomas Francis</td>\n",
       "      <td>male</td>\n",
       "      <td>62.0</td>\n",
       "      <td>0</td>\n",
       "      <td>0</td>\n",
       "      <td>9.6875</td>\n",
       "      <td>Q</td>\n",
       "      <td>(60.834, 76.0]</td>\n",
       "      <td>(8.662, 14.454]</td>\n",
       "    </tr>\n",
       "    <tr>\n",
       "      <th>3</th>\n",
       "      <td>895</td>\n",
       "      <td>3</td>\n",
       "      <td>Wirz, Mr. Albert</td>\n",
       "      <td>male</td>\n",
       "      <td>27.0</td>\n",
       "      <td>0</td>\n",
       "      <td>0</td>\n",
       "      <td>8.6625</td>\n",
       "      <td>S</td>\n",
       "      <td>(15.336, 30.502]</td>\n",
       "      <td>(7.762, 8.662]</td>\n",
       "    </tr>\n",
       "    <tr>\n",
       "      <th>4</th>\n",
       "      <td>896</td>\n",
       "      <td>3</td>\n",
       "      <td>Hirvonen, Mrs. Alexander (Helga E Lindqvist)</td>\n",
       "      <td>female</td>\n",
       "      <td>22.0</td>\n",
       "      <td>1</td>\n",
       "      <td>1</td>\n",
       "      <td>12.2875</td>\n",
       "      <td>S</td>\n",
       "      <td>(15.336, 30.502]</td>\n",
       "      <td>(8.662, 14.454]</td>\n",
       "    </tr>\n",
       "    <tr>\n",
       "      <th>...</th>\n",
       "      <td>...</td>\n",
       "      <td>...</td>\n",
       "      <td>...</td>\n",
       "      <td>...</td>\n",
       "      <td>...</td>\n",
       "      <td>...</td>\n",
       "      <td>...</td>\n",
       "      <td>...</td>\n",
       "      <td>...</td>\n",
       "      <td>...</td>\n",
       "      <td>...</td>\n",
       "    </tr>\n",
       "    <tr>\n",
       "      <th>413</th>\n",
       "      <td>1305</td>\n",
       "      <td>3</td>\n",
       "      <td>Spector, Mr. Woolf</td>\n",
       "      <td>male</td>\n",
       "      <td>27.0</td>\n",
       "      <td>0</td>\n",
       "      <td>0</td>\n",
       "      <td>8.0500</td>\n",
       "      <td>S</td>\n",
       "      <td>(15.336, 30.502]</td>\n",
       "      <td>(7.762, 8.662]</td>\n",
       "    </tr>\n",
       "    <tr>\n",
       "      <th>414</th>\n",
       "      <td>1306</td>\n",
       "      <td>1</td>\n",
       "      <td>Oliva y Ocana, Dona. Fermina</td>\n",
       "      <td>female</td>\n",
       "      <td>39.0</td>\n",
       "      <td>0</td>\n",
       "      <td>0</td>\n",
       "      <td>108.9000</td>\n",
       "      <td>C</td>\n",
       "      <td>(30.502, 45.668]</td>\n",
       "      <td>(55.969, 512.329]</td>\n",
       "    </tr>\n",
       "    <tr>\n",
       "      <th>415</th>\n",
       "      <td>1307</td>\n",
       "      <td>3</td>\n",
       "      <td>Saether, Mr. Simon Sivertsen</td>\n",
       "      <td>male</td>\n",
       "      <td>38.5</td>\n",
       "      <td>0</td>\n",
       "      <td>0</td>\n",
       "      <td>7.2500</td>\n",
       "      <td>S</td>\n",
       "      <td>(30.502, 45.668]</td>\n",
       "      <td>(-0.001, 7.762]</td>\n",
       "    </tr>\n",
       "    <tr>\n",
       "      <th>416</th>\n",
       "      <td>1308</td>\n",
       "      <td>3</td>\n",
       "      <td>Ware, Mr. Frederick</td>\n",
       "      <td>male</td>\n",
       "      <td>27.0</td>\n",
       "      <td>0</td>\n",
       "      <td>0</td>\n",
       "      <td>8.0500</td>\n",
       "      <td>S</td>\n",
       "      <td>(15.336, 30.502]</td>\n",
       "      <td>(7.762, 8.662]</td>\n",
       "    </tr>\n",
       "    <tr>\n",
       "      <th>417</th>\n",
       "      <td>1309</td>\n",
       "      <td>3</td>\n",
       "      <td>Peter, Master. Michael J</td>\n",
       "      <td>male</td>\n",
       "      <td>27.0</td>\n",
       "      <td>1</td>\n",
       "      <td>1</td>\n",
       "      <td>22.3583</td>\n",
       "      <td>C</td>\n",
       "      <td>(15.336, 30.502]</td>\n",
       "      <td>(14.454, 26.0]</td>\n",
       "    </tr>\n",
       "  </tbody>\n",
       "</table>\n",
       "<p>418 rows × 11 columns</p>\n",
       "</div>"
      ],
      "text/plain": [
       "     PassengerId  Pclass                                          Name  \\\n",
       "0            892       3                              Kelly, Mr. James   \n",
       "1            893       3              Wilkes, Mrs. James (Ellen Needs)   \n",
       "2            894       2                     Myles, Mr. Thomas Francis   \n",
       "3            895       3                              Wirz, Mr. Albert   \n",
       "4            896       3  Hirvonen, Mrs. Alexander (Helga E Lindqvist)   \n",
       "..           ...     ...                                           ...   \n",
       "413         1305       3                            Spector, Mr. Woolf   \n",
       "414         1306       1                  Oliva y Ocana, Dona. Fermina   \n",
       "415         1307       3                  Saether, Mr. Simon Sivertsen   \n",
       "416         1308       3                           Ware, Mr. Frederick   \n",
       "417         1309       3                      Peter, Master. Michael J   \n",
       "\n",
       "        Sex   Age  SibSp  Parch      Fare Embarked         AgeGroups  \\\n",
       "0      male  34.5      0      0    7.8292        Q  (30.502, 45.668]   \n",
       "1    female  47.0      1      0    7.0000        S  (45.668, 60.834]   \n",
       "2      male  62.0      0      0    9.6875        Q    (60.834, 76.0]   \n",
       "3      male  27.0      0      0    8.6625        S  (15.336, 30.502]   \n",
       "4    female  22.0      1      1   12.2875        S  (15.336, 30.502]   \n",
       "..      ...   ...    ...    ...       ...      ...               ...   \n",
       "413    male  27.0      0      0    8.0500        S  (15.336, 30.502]   \n",
       "414  female  39.0      0      0  108.9000        C  (30.502, 45.668]   \n",
       "415    male  38.5      0      0    7.2500        S  (30.502, 45.668]   \n",
       "416    male  27.0      0      0    8.0500        S  (15.336, 30.502]   \n",
       "417    male  27.0      1      1   22.3583        C  (15.336, 30.502]   \n",
       "\n",
       "            FareGroups  \n",
       "0       (7.762, 8.662]  \n",
       "1      (-0.001, 7.762]  \n",
       "2      (8.662, 14.454]  \n",
       "3       (7.762, 8.662]  \n",
       "4      (8.662, 14.454]  \n",
       "..                 ...  \n",
       "413     (7.762, 8.662]  \n",
       "414  (55.969, 512.329]  \n",
       "415    (-0.001, 7.762]  \n",
       "416     (7.762, 8.662]  \n",
       "417     (14.454, 26.0]  \n",
       "\n",
       "[418 rows x 11 columns]"
      ]
     },
     "execution_count": 35,
     "metadata": {},
     "output_type": "execute_result"
    }
   ],
   "source": [
    "# Visualização do dataframe de teste\n",
    "X_test"
   ]
  },
  {
   "cell_type": "code",
   "execution_count": 36,
   "id": "39304793",
   "metadata": {
    "execution": {
     "iopub.execute_input": "2025-03-07T21:56:26.964712Z",
     "iopub.status.busy": "2025-03-07T21:56:26.964301Z",
     "iopub.status.idle": "2025-03-07T21:56:26.982253Z",
     "shell.execute_reply": "2025-03-07T21:56:26.981272Z"
    },
    "papermill": {
     "duration": 0.033497,
     "end_time": "2025-03-07T21:56:26.983935",
     "exception": false,
     "start_time": "2025-03-07T21:56:26.950438",
     "status": "completed"
    },
    "tags": []
   },
   "outputs": [
    {
     "data": {
      "text/html": [
       "<div>\n",
       "<style scoped>\n",
       "    .dataframe tbody tr th:only-of-type {\n",
       "        vertical-align: middle;\n",
       "    }\n",
       "\n",
       "    .dataframe tbody tr th {\n",
       "        vertical-align: top;\n",
       "    }\n",
       "\n",
       "    .dataframe thead th {\n",
       "        text-align: right;\n",
       "    }\n",
       "</style>\n",
       "<table border=\"1\" class=\"dataframe\">\n",
       "  <thead>\n",
       "    <tr style=\"text-align: right;\">\n",
       "      <th></th>\n",
       "      <th>PassengerId</th>\n",
       "      <th>Survived</th>\n",
       "      <th>Pclass</th>\n",
       "      <th>Name</th>\n",
       "      <th>Sex</th>\n",
       "      <th>Age</th>\n",
       "      <th>SibSp</th>\n",
       "      <th>Parch</th>\n",
       "      <th>Fare</th>\n",
       "      <th>Embarked</th>\n",
       "      <th>AgeGroups</th>\n",
       "      <th>FareGroups</th>\n",
       "    </tr>\n",
       "  </thead>\n",
       "  <tbody>\n",
       "    <tr>\n",
       "      <th>0</th>\n",
       "      <td>1</td>\n",
       "      <td>0</td>\n",
       "      <td>3</td>\n",
       "      <td>Braund, Mr. Owen Harris</td>\n",
       "      <td>male</td>\n",
       "      <td>22.0</td>\n",
       "      <td>1</td>\n",
       "      <td>0</td>\n",
       "      <td>7.2500</td>\n",
       "      <td>S</td>\n",
       "      <td>(16.336, 32.252]</td>\n",
       "      <td>(-0.001, 7.775]</td>\n",
       "    </tr>\n",
       "    <tr>\n",
       "      <th>1</th>\n",
       "      <td>2</td>\n",
       "      <td>1</td>\n",
       "      <td>1</td>\n",
       "      <td>Cumings, Mrs. John Bradley (Florence Briggs Th...</td>\n",
       "      <td>female</td>\n",
       "      <td>38.0</td>\n",
       "      <td>1</td>\n",
       "      <td>0</td>\n",
       "      <td>71.2833</td>\n",
       "      <td>C</td>\n",
       "      <td>(32.252, 48.168]</td>\n",
       "      <td>(52.369, 512.329]</td>\n",
       "    </tr>\n",
       "    <tr>\n",
       "      <th>2</th>\n",
       "      <td>3</td>\n",
       "      <td>1</td>\n",
       "      <td>3</td>\n",
       "      <td>Heikkinen, Miss. Laina</td>\n",
       "      <td>female</td>\n",
       "      <td>26.0</td>\n",
       "      <td>0</td>\n",
       "      <td>0</td>\n",
       "      <td>7.9250</td>\n",
       "      <td>S</td>\n",
       "      <td>(16.336, 32.252]</td>\n",
       "      <td>(7.775, 8.662]</td>\n",
       "    </tr>\n",
       "    <tr>\n",
       "      <th>3</th>\n",
       "      <td>4</td>\n",
       "      <td>1</td>\n",
       "      <td>1</td>\n",
       "      <td>Futrelle, Mrs. Jacques Heath (Lily May Peel)</td>\n",
       "      <td>female</td>\n",
       "      <td>35.0</td>\n",
       "      <td>1</td>\n",
       "      <td>0</td>\n",
       "      <td>53.1000</td>\n",
       "      <td>S</td>\n",
       "      <td>(32.252, 48.168]</td>\n",
       "      <td>(52.369, 512.329]</td>\n",
       "    </tr>\n",
       "    <tr>\n",
       "      <th>4</th>\n",
       "      <td>5</td>\n",
       "      <td>0</td>\n",
       "      <td>3</td>\n",
       "      <td>Allen, Mr. William Henry</td>\n",
       "      <td>male</td>\n",
       "      <td>35.0</td>\n",
       "      <td>0</td>\n",
       "      <td>0</td>\n",
       "      <td>8.0500</td>\n",
       "      <td>S</td>\n",
       "      <td>(32.252, 48.168]</td>\n",
       "      <td>(7.775, 8.662]</td>\n",
       "    </tr>\n",
       "    <tr>\n",
       "      <th>...</th>\n",
       "      <td>...</td>\n",
       "      <td>...</td>\n",
       "      <td>...</td>\n",
       "      <td>...</td>\n",
       "      <td>...</td>\n",
       "      <td>...</td>\n",
       "      <td>...</td>\n",
       "      <td>...</td>\n",
       "      <td>...</td>\n",
       "      <td>...</td>\n",
       "      <td>...</td>\n",
       "      <td>...</td>\n",
       "    </tr>\n",
       "    <tr>\n",
       "      <th>886</th>\n",
       "      <td>887</td>\n",
       "      <td>0</td>\n",
       "      <td>2</td>\n",
       "      <td>Montvila, Rev. Juozas</td>\n",
       "      <td>male</td>\n",
       "      <td>27.0</td>\n",
       "      <td>0</td>\n",
       "      <td>0</td>\n",
       "      <td>13.0000</td>\n",
       "      <td>S</td>\n",
       "      <td>(16.336, 32.252]</td>\n",
       "      <td>(8.662, 14.454]</td>\n",
       "    </tr>\n",
       "    <tr>\n",
       "      <th>887</th>\n",
       "      <td>888</td>\n",
       "      <td>1</td>\n",
       "      <td>1</td>\n",
       "      <td>Graham, Miss. Margaret Edith</td>\n",
       "      <td>female</td>\n",
       "      <td>19.0</td>\n",
       "      <td>0</td>\n",
       "      <td>0</td>\n",
       "      <td>30.0000</td>\n",
       "      <td>S</td>\n",
       "      <td>(16.336, 32.252]</td>\n",
       "      <td>(26.0, 52.369]</td>\n",
       "    </tr>\n",
       "    <tr>\n",
       "      <th>888</th>\n",
       "      <td>889</td>\n",
       "      <td>0</td>\n",
       "      <td>3</td>\n",
       "      <td>Johnston, Miss. Catherine Helen \"Carrie\"</td>\n",
       "      <td>female</td>\n",
       "      <td>28.0</td>\n",
       "      <td>1</td>\n",
       "      <td>2</td>\n",
       "      <td>23.4500</td>\n",
       "      <td>S</td>\n",
       "      <td>(16.336, 32.252]</td>\n",
       "      <td>(14.454, 26.0]</td>\n",
       "    </tr>\n",
       "    <tr>\n",
       "      <th>889</th>\n",
       "      <td>890</td>\n",
       "      <td>1</td>\n",
       "      <td>1</td>\n",
       "      <td>Behr, Mr. Karl Howell</td>\n",
       "      <td>male</td>\n",
       "      <td>26.0</td>\n",
       "      <td>0</td>\n",
       "      <td>0</td>\n",
       "      <td>30.0000</td>\n",
       "      <td>C</td>\n",
       "      <td>(16.336, 32.252]</td>\n",
       "      <td>(26.0, 52.369]</td>\n",
       "    </tr>\n",
       "    <tr>\n",
       "      <th>890</th>\n",
       "      <td>891</td>\n",
       "      <td>0</td>\n",
       "      <td>3</td>\n",
       "      <td>Dooley, Mr. Patrick</td>\n",
       "      <td>male</td>\n",
       "      <td>32.0</td>\n",
       "      <td>0</td>\n",
       "      <td>0</td>\n",
       "      <td>7.7500</td>\n",
       "      <td>Q</td>\n",
       "      <td>(16.336, 32.252]</td>\n",
       "      <td>(-0.001, 7.775]</td>\n",
       "    </tr>\n",
       "  </tbody>\n",
       "</table>\n",
       "<p>891 rows × 12 columns</p>\n",
       "</div>"
      ],
      "text/plain": [
       "     PassengerId  Survived  Pclass  \\\n",
       "0              1         0       3   \n",
       "1              2         1       1   \n",
       "2              3         1       3   \n",
       "3              4         1       1   \n",
       "4              5         0       3   \n",
       "..           ...       ...     ...   \n",
       "886          887         0       2   \n",
       "887          888         1       1   \n",
       "888          889         0       3   \n",
       "889          890         1       1   \n",
       "890          891         0       3   \n",
       "\n",
       "                                                  Name     Sex   Age  SibSp  \\\n",
       "0                              Braund, Mr. Owen Harris    male  22.0      1   \n",
       "1    Cumings, Mrs. John Bradley (Florence Briggs Th...  female  38.0      1   \n",
       "2                               Heikkinen, Miss. Laina  female  26.0      0   \n",
       "3         Futrelle, Mrs. Jacques Heath (Lily May Peel)  female  35.0      1   \n",
       "4                             Allen, Mr. William Henry    male  35.0      0   \n",
       "..                                                 ...     ...   ...    ...   \n",
       "886                              Montvila, Rev. Juozas    male  27.0      0   \n",
       "887                       Graham, Miss. Margaret Edith  female  19.0      0   \n",
       "888           Johnston, Miss. Catherine Helen \"Carrie\"  female  28.0      1   \n",
       "889                              Behr, Mr. Karl Howell    male  26.0      0   \n",
       "890                                Dooley, Mr. Patrick    male  32.0      0   \n",
       "\n",
       "     Parch     Fare Embarked         AgeGroups         FareGroups  \n",
       "0        0   7.2500        S  (16.336, 32.252]    (-0.001, 7.775]  \n",
       "1        0  71.2833        C  (32.252, 48.168]  (52.369, 512.329]  \n",
       "2        0   7.9250        S  (16.336, 32.252]     (7.775, 8.662]  \n",
       "3        0  53.1000        S  (32.252, 48.168]  (52.369, 512.329]  \n",
       "4        0   8.0500        S  (32.252, 48.168]     (7.775, 8.662]  \n",
       "..     ...      ...      ...               ...                ...  \n",
       "886      0  13.0000        S  (16.336, 32.252]    (8.662, 14.454]  \n",
       "887      0  30.0000        S  (16.336, 32.252]     (26.0, 52.369]  \n",
       "888      2  23.4500        S  (16.336, 32.252]     (14.454, 26.0]  \n",
       "889      0  30.0000        C  (16.336, 32.252]     (26.0, 52.369]  \n",
       "890      0   7.7500        Q  (16.336, 32.252]    (-0.001, 7.775]  \n",
       "\n",
       "[891 rows x 12 columns]"
      ]
     },
     "execution_count": 36,
     "metadata": {},
     "output_type": "execute_result"
    }
   ],
   "source": [
    "# Visualização do dataframe de treino\n",
    "X_train"
   ]
  }
 ],
 "metadata": {
  "kaggle": {
   "accelerator": "none",
   "dataSources": [
    {
     "databundleVersionId": 26502,
     "sourceId": 3136,
     "sourceType": "competition"
    }
   ],
   "dockerImageVersionId": 30918,
   "isGpuEnabled": false,
   "isInternetEnabled": true,
   "language": "python",
   "sourceType": "notebook"
  },
  "kernelspec": {
   "display_name": "Python 3",
   "language": "python",
   "name": "python3"
  },
  "language_info": {
   "codemirror_mode": {
    "name": "ipython",
    "version": 3
   },
   "file_extension": ".py",
   "mimetype": "text/x-python",
   "name": "python",
   "nbconvert_exporter": "python",
   "pygments_lexer": "ipython3",
   "version": "3.10.12"
  },
  "papermill": {
   "default_parameters": {},
   "duration": 10.139512,
   "end_time": "2025-03-07T21:56:27.718283",
   "environment_variables": {},
   "exception": null,
   "input_path": "__notebook__.ipynb",
   "output_path": "__notebook__.ipynb",
   "parameters": {},
   "start_time": "2025-03-07T21:56:17.578771",
   "version": "2.6.0"
  }
 },
 "nbformat": 4,
 "nbformat_minor": 5
}
